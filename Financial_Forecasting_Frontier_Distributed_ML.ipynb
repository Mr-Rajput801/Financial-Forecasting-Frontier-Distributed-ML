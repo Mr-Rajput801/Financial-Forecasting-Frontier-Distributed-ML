{
  "cells": [
    {
      "cell_type": "markdown",
      "metadata": {
        "id": "view-in-github",
        "colab_type": "text"
      },
      "source": [
        "<a href=\"https://colab.research.google.com/github/Mr-Rajput801/Financial-Forecasting-Frontier-Distributed-ML/blob/main/Financial_Forecasting_Frontier_Distributed_ML.ipynb\" target=\"_parent\"><img src=\"https://colab.research.google.com/assets/colab-badge.svg\" alt=\"Open In Colab\"/></a>"
      ]
    },
    {
      "cell_type": "markdown",
      "source": [
        "# **Financial Forecasting Frontier: Distributed ML**\n",
        "# Distributed Machine Learning"
      ],
      "metadata": {
        "id": "cd-clMBIRxH7"
      }
    },
    {
      "cell_type": "markdown",
      "metadata": {
        "id": "w0yl68OrNbs2"
      },
      "source": [
        "# **1) Efficient Data Handling through Data Parallelism**"
      ]
    },
    {
      "cell_type": "code",
      "execution_count": null,
      "metadata": {
        "colab": {
          "base_uri": "https://localhost:8080/"
        },
        "id": "34gZhobhNI5V",
        "outputId": "27f3091f-0e10-4bd3-ee2e-74279532ac74"
      },
      "outputs": [
        {
          "output_type": "stream",
          "name": "stdout",
          "text": [
            "Requirement already satisfied: pyspark in /usr/local/lib/python3.11/dist-packages (3.5.1)\n",
            "Requirement already satisfied: py4j==0.10.9.7 in /usr/local/lib/python3.11/dist-packages (from pyspark) (0.10.9.7)\n"
          ]
        }
      ],
      "source": [
        "!pip install pyspark"
      ]
    },
    {
      "cell_type": "markdown",
      "metadata": {
        "id": "SJ7_yPtbN32q"
      },
      "source": [
        "**Load and Inspect the Dataset**"
      ]
    },
    {
      "cell_type": "code",
      "source": [
        "from google.colab import drive\n",
        "drive.mount('/content/drive')"
      ],
      "metadata": {
        "id": "xTPgtffYfitR",
        "outputId": "fc0eaa48-34c8-41b5-e81b-e0ea3edd091a",
        "colab": {
          "base_uri": "https://localhost:8080/"
        }
      },
      "execution_count": null,
      "outputs": [
        {
          "output_type": "stream",
          "name": "stdout",
          "text": [
            "Mounted at /content/drive\n"
          ]
        }
      ]
    },
    {
      "cell_type": "code",
      "execution_count": null,
      "metadata": {
        "colab": {
          "base_uri": "https://localhost:8080/"
        },
        "id": "5XOwa0EWN3fC",
        "outputId": "7319f15d-c5cd-4a64-cc81-3a1ec4a715e3"
      },
      "outputs": [
        {
          "output_type": "stream",
          "name": "stdout",
          "text": [
            "+---+-----------+-------+---------+-------+-------+-------+----+--------+---+-----+--------+--------+-----+--------+--------+---+\n",
            "|age|        job|marital|education|default|balance|housing|loan| contact|day|month|duration|campaign|pdays|previous|poutcome|  y|\n",
            "+---+-----------+-------+---------+-------+-------+-------+----+--------+---+-----+--------+--------+-----+--------+--------+---+\n",
            "| 30| unemployed|married|  primary|     no|   1787|     no|  no|cellular| 19|  oct|      79|       1|   -1|       0| unknown| no|\n",
            "| 33|   services|married|secondary|     no|   4789|    yes| yes|cellular| 11|  may|     220|       1|  339|       4| failure| no|\n",
            "| 35| management| single| tertiary|     no|   1350|    yes|  no|cellular| 16|  apr|     185|       1|  330|       1| failure| no|\n",
            "| 30| management|married| tertiary|     no|   1476|    yes| yes| unknown|  3|  jun|     199|       4|   -1|       0| unknown| no|\n",
            "| 59|blue-collar|married|secondary|     no|      0|    yes|  no| unknown|  5|  may|     226|       1|   -1|       0| unknown| no|\n",
            "+---+-----------+-------+---------+-------+-------+-------+----+--------+---+-----+--------+--------+-----+--------+--------+---+\n",
            "only showing top 5 rows\n",
            "\n"
          ]
        }
      ],
      "source": [
        "from pyspark.sql import SparkSession\n",
        "\n",
        "# Initialize Spark session\n",
        "spark = SparkSession.builder.appName(\"BankAnalysis\").getOrCreate()\n",
        "\n",
        "# Load the dataset\n",
        "file_path = \"/content/drive/MyDrive/Data of projects/bank7.csv\"\n",
        "df = spark.read.csv(file_path, header=True, inferSchema=True)\n",
        "\n",
        "# Show first few rows\n",
        "df.show(5)"
      ]
    },
    {
      "cell_type": "markdown",
      "metadata": {
        "id": "21lpnxYIOVr9"
      },
      "source": [
        "**Data Partitioning for Parallel Processing**\n",
        "\n",
        "Partitioning helps distribute the dataset across multiple nodes for faster processing.\n",
        "\n",
        "Let's check the current number of partitions and then repartition the data.\n",
        "\n",
        "a)The first print statement will show the current partition count.\n",
        "\n",
        "b)After repartitioning, the second print will confirm the new partition count (should be 4).\n",
        "\n",
        "Reason of using this method:\n",
        "\n",
        "Even Distribution: Partitioning based on the balance column helps in distributing the data evenly across the partitions.\n",
        "\n",
        "Parallel Processing: By partitioning the data, Spark can process each partition in parallel, which enhances the performance of data processing tasks.\n",
        "\n",
        "Scalability: This approach scales well with large datasets, making it suitable for big data applications.\n",
        "\n",
        "Summary:\n",
        "\n",
        "- To manage memory utilization and the quantity of shuffle partitions, we first establish a Spark session with the desired settings.\n",
        "\n",
        "- A Spark DataFrame is loaded with the \"bank.csv\" dataset.\n",
        "\n",
        "- To understand the structure of the dataframe, we first showed a few rows of the dataframe.\n",
        "\n",
        "- The balance column is the basis for our four partitions within the dataframe. The dataset's size and the resources at hand can be used to modify the number of partitions.\n",
        "\n",
        "- We verify the partitioning by printing the total number of partitions."
      ]
    },
    {
      "cell_type": "code",
      "execution_count": null,
      "metadata": {
        "colab": {
          "base_uri": "https://localhost:8080/"
        },
        "id": "r4Yyq8NlNtnE",
        "outputId": "6e7284a4-0104-4f5e-89a2-97e32001e3ec"
      },
      "outputs": [
        {
          "name": "stdout",
          "output_type": "stream",
          "text": [
            "Current Partitions: 1\n",
            "New Partitions: 4\n"
          ]
        }
      ],
      "source": [
        "# Check the current number of partitions\n",
        "print(\"Current Partitions:\", df.rdd.getNumPartitions())\n",
        "\n",
        "# Repartition the dataset (choosing 4 as an example, can be adjusted)\n",
        "df = df.repartition(4)\n",
        "\n",
        "# Verify new partition count\n",
        "print(\"New Partitions:\", df.rdd.getNumPartitions())\n"
      ]
    },
    {
      "cell_type": "markdown",
      "metadata": {
        "id": "RQ7a-rVXO-ZH"
      },
      "source": [
        "**Parallel Data Analysis**"
      ]
    },
    {
      "cell_type": "markdown",
      "metadata": {
        "id": "NEJECmnpPCII"
      },
      "source": [
        "a) Calculate Average Balance by Job Category\n",
        "\n",
        "- This will calculate the average balance for each job category in parallel.\n",
        "\n",
        "- A table showing the average balance for each job category"
      ]
    },
    {
      "cell_type": "code",
      "execution_count": null,
      "metadata": {
        "colab": {
          "base_uri": "https://localhost:8080/"
        },
        "id": "sVGyMe9UNthl",
        "outputId": "b4019255-9d43-4960-ae2c-ed0b92d383fc"
      },
      "outputs": [
        {
          "name": "stdout",
          "output_type": "stream",
          "text": [
            "+-------------+------------------+\n",
            "|          job|       avg_balance|\n",
            "+-------------+------------------+\n",
            "|   management|1766.9287925696594|\n",
            "|      retired| 2319.191304347826|\n",
            "|      unknown|1501.7105263157894|\n",
            "|self-employed|1392.4098360655737|\n",
            "|      student|1543.8214285714287|\n",
            "|  blue-collar| 1085.161733615222|\n",
            "| entrepreneur|          1645.125|\n",
            "|       admin.|  1226.73640167364|\n",
            "|   technician|     1330.99609375|\n",
            "|     services|1103.9568345323742|\n",
            "|    housemaid|2083.8035714285716|\n",
            "|   unemployed|       1089.421875|\n",
            "+-------------+------------------+\n",
            "\n"
          ]
        }
      ],
      "source": [
        "from pyspark.sql.functions import avg, sum\n",
        "\n",
        "# Calculate average balance for each job category\n",
        "avg_balance_per_job = df.groupBy(\"job\").agg(avg(\"balance\").alias(\"avg_balance\"))\n",
        "avg_balance_per_job.show()\n"
      ]
    },
    {
      "cell_type": "markdown",
      "metadata": {
        "id": "eIk5fM3dPPv_"
      },
      "source": [
        "b) Identify Top 5 Age Groups with Highest Loan Amounts\n",
        "\n",
        "- We'll create age groups and sum the loan amounts to find the top 5.\n",
        "\n",
        "- A table showing top 5 age groups with the highest total loan amounts"
      ]
    },
    {
      "cell_type": "code",
      "execution_count": null,
      "metadata": {
        "colab": {
          "base_uri": "https://localhost:8080/"
        },
        "id": "vbKzR68XNtcq",
        "outputId": "e1f10ca4-dd41-4979-c4c7-5041918fee14"
      },
      "outputs": [
        {
          "name": "stdout",
          "output_type": "stream",
          "text": [
            "+---------+----------+\n",
            "|age_group|total_loan|\n",
            "+---------+----------+\n",
            "|       40|      NULL|\n",
            "|       20|      NULL|\n",
            "|       10|      NULL|\n",
            "|       50|      NULL|\n",
            "|       80|      NULL|\n",
            "+---------+----------+\n",
            "only showing top 5 rows\n",
            "\n"
          ]
        }
      ],
      "source": [
        "from pyspark.sql.functions import sum\n",
        "\n",
        "# Create age groups\n",
        "df = df.withColumn(\"age_group\", (df[\"age\"] / 10).cast(\"int\") * 10)\n",
        "\n",
        "# Sum loan amounts by age group and get top 5\n",
        "df.groupBy(\"age_group\").agg(sum(\"loan\").alias(\"total_loan\")) \\\n",
        "  .orderBy(col(\"total_loan\").desc()) \\\n",
        "  .show(5)"
      ]
    },
    {
      "cell_type": "markdown",
      "metadata": {
        "id": "ywSaC4xWPgG8"
      },
      "source": [
        "**Results**: Average Balance for Each Job Category:\n",
        "\n",
        "This will display the average account balance for each job category.\n",
        "\n",
        "Top 5 Age Groups with Highest Loan Amounts:\n",
        "\n",
        "This will display the age groups that have the highest total loan amounts.\n",
        "\n",
        "**Approach**:\n",
        "\n",
        "Parallel Processing:\n",
        "\n",
        "By using groupBy and agg functions, Spark performs these operations in parallel across partitions, leveraging the distributed computing power of the cluster.\n",
        "\n",
        "Efficiency:\n",
        "\n",
        "Partitioning and parallel processing ensure that the computations are performed efficiently, even on large datasets."
      ]
    },
    {
      "cell_type": "markdown",
      "metadata": {
        "id": "NQ642aVZPqsE"
      },
      "source": [
        "**Model Training on Partitioned Data**\n",
        "\n",
        "a) Choose a Model\n",
        "\n",
        "We will use **Logistic Regression** because:\n",
        "\n",
        "1) To predict whether a client will subscribe to a term deposit (y column).It is efficient for binary classification (target: \"y\").\n",
        "\n",
        "2) It scales well with large datasets.\n",
        "\n",
        "3) Convert categorical labels and prepare feature columns."
      ]
    },
    {
      "cell_type": "code",
      "execution_count": null,
      "metadata": {
        "id": "uwx3cuJ-NtXd"
      },
      "outputs": [],
      "source": [
        "from pyspark.ml.feature import VectorAssembler, StringIndexer\n",
        "from pyspark.ml.classification import LogisticRegression\n",
        "from pyspark.ml import Pipeline\n",
        "\n",
        "# Convert categorical target variable to numeric\n",
        "indexer = StringIndexer(inputCol=\"y\", outputCol=\"label\")\n",
        "\n",
        "# Select relevant numerical features\n",
        "feature_cols = [\"age\", \"balance\", \"day\", \"duration\", \"campaign\", \"pdays\", \"previous\"]\n",
        "assembler = VectorAssembler(inputCols=feature_cols, outputCol=\"features\")\n",
        "\n",
        "# Define model\n",
        "lr = LogisticRegression(featuresCol=\"features\", labelCol=\"label\")\n",
        "\n",
        "# Create pipeline\n",
        "pipeline = Pipeline(stages=[indexer, assembler, lr])"
      ]
    },
    {
      "cell_type": "markdown",
      "metadata": {
        "id": "R1d6vSylP3yP"
      },
      "source": [
        "b) Train-Test Split & Model Training\n",
        "\n",
        "split the dataset into training (80%) and testing (20%) sets and train the model.\n",
        "\n",
        "The .show(5) output will display actual vs. predicted values."
      ]
    },
    {
      "cell_type": "code",
      "execution_count": null,
      "metadata": {
        "colab": {
          "base_uri": "https://localhost:8080/"
        },
        "id": "YOEfk5C8NtS0",
        "outputId": "95571f4b-a8f2-42b3-828e-919d2a271d44"
      },
      "outputs": [
        {
          "name": "stdout",
          "output_type": "stream",
          "text": [
            "+-----+----------+\n",
            "|label|prediction|\n",
            "+-----+----------+\n",
            "|  1.0|       0.0|\n",
            "|  0.0|       0.0|\n",
            "|  0.0|       0.0|\n",
            "|  0.0|       0.0|\n",
            "|  0.0|       0.0|\n",
            "+-----+----------+\n",
            "only showing top 5 rows\n",
            "\n"
          ]
        }
      ],
      "source": [
        "# Split dataset\n",
        "train_data, test_data = df.randomSplit([0.8, 0.2], seed=42)\n",
        "\n",
        "# Train model\n",
        "model = pipeline.fit(train_data)\n",
        "\n",
        "# Evaluate model\n",
        "predictions = model.transform(test_data)\n",
        "predictions.select(\"label\", \"prediction\").show(5)"
      ]
    },
    {
      "cell_type": "markdown",
      "metadata": {
        "id": "fneR4yZvQF0W"
      },
      "source": [
        "**Resource Monitoring**\n",
        "\n",
        "To track CPU & memory usage during training:\n",
        "\n",
        "Use the psutil library to check system resource consumption.\n",
        "\n",
        "a) It shows CPU usage (%) and Memory usage (%) printed in the output.\n",
        "\n",
        "b)This also helps analyze system performance during parallel processing and model training"
      ]
    },
    {
      "cell_type": "code",
      "execution_count": null,
      "metadata": {
        "colab": {
          "base_uri": "https://localhost:8080/"
        },
        "id": "2Bh3-s2uNtPd",
        "outputId": "a6175873-426f-4c14-dc16-6948b9ec1a9d"
      },
      "outputs": [
        {
          "name": "stdout",
          "output_type": "stream",
          "text": [
            "Requirement already satisfied: psutil in /usr/local/lib/python3.11/dist-packages (5.9.5)\n",
            "CPU Usage: 3.0\n",
            "Memory Usage: 15.1\n"
          ]
        }
      ],
      "source": [
        "!pip install psutil\n",
        "import psutil\n",
        "\n",
        "# Monitor CPU & Memory Usage\n",
        "print(\"CPU Usage:\", psutil.cpu_percent(interval=1))\n",
        "print(\"Memory Usage:\", psutil.virtual_memory().percent)"
      ]
    },
    {
      "cell_type": "markdown",
      "metadata": {
        "id": "ZiLMVPtrQQM0"
      },
      "source": [
        "**Task Management & Scheduling**\n",
        "\n",
        "Parallel processing for data cleaning, feature engineering, and model training:\n",
        "\n",
        "- To handle multiple preprocessing tasks in parallel, we use Spark transformations.\n",
        "\n",
        "- Will create new columns based on existing data while running transformations in parallel."
      ]
    },
    {
      "cell_type": "code",
      "execution_count": null,
      "metadata": {
        "colab": {
          "base_uri": "https://localhost:8080/"
        },
        "id": "TomnKI6CNtMU",
        "outputId": "5e1caefb-cada-483a-ae8b-8e663e6913fe"
      },
      "outputs": [
        {
          "name": "stdout",
          "output_type": "stream",
          "text": [
            "+--------+----------+-----------+\n",
            "|has_loan|is_married|is_educated|\n",
            "+--------+----------+-----------+\n",
            "|       0|         0|          1|\n",
            "|       0|         0|          1|\n",
            "|       0|         0|          1|\n",
            "|       0|         0|          1|\n",
            "|       0|         0|          1|\n",
            "+--------+----------+-----------+\n",
            "only showing top 5 rows\n",
            "\n"
          ]
        }
      ],
      "source": [
        "from pyspark.sql.functions import when\n",
        "\n",
        "# Parallel tasks example\n",
        "df = df.withColumn(\"has_loan\", when(df[\"loan\"] == \"yes\", 1).otherwise(0))\n",
        "df = df.withColumn(\"is_married\", when(df[\"marital\"] == \"married\", 1).otherwise(0))\n",
        "df = df.withColumn(\"is_educated\", when(df[\"education\"] != \"unknown\", 1).otherwise(0))\n",
        "\n",
        "# Show sample rows\n",
        "df.select(\"has_loan\", \"is_married\", \"is_educated\").show(5)"
      ]
    },
    {
      "cell_type": "markdown",
      "metadata": {
        "id": "cY_TWdpkQZd7"
      },
      "source": [
        "**Task Scheduling Strategy**\n",
        "\n",
        "- Use repartition():- Ensures balanced workload across partitions.\n",
        "\n",
        "- Use cache():- Keeps frequently used data in memory for faster access.\n",
        "\n",
        "- Optimize groupBy() & agg():- Avoid unnecessary shuffling of data."
      ]
    },
    {
      "cell_type": "code",
      "execution_count": null,
      "metadata": {
        "colab": {
          "base_uri": "https://localhost:8080/"
        },
        "id": "3W5xFUH2NtJN",
        "outputId": "87fc4cc1-6ae1-4d3d-9ea6-80a6b9ba35cc"
      },
      "outputs": [
        {
          "name": "stdout",
          "output_type": "stream",
          "text": [
            "+-------------+------------------+\n",
            "|          job|       avg_balance|\n",
            "+-------------+------------------+\n",
            "|   management|1766.9287925696594|\n",
            "|      retired| 2319.191304347826|\n",
            "|      unknown|1501.7105263157894|\n",
            "|self-employed|1392.4098360655737|\n",
            "|      student|1543.8214285714287|\n",
            "|  blue-collar| 1085.161733615222|\n",
            "| entrepreneur|          1645.125|\n",
            "|       admin.|  1226.73640167364|\n",
            "|   technician|     1330.99609375|\n",
            "|     services|1103.9568345323742|\n",
            "|    housemaid|2083.8035714285716|\n",
            "|   unemployed|       1089.421875|\n",
            "+-------------+------------------+\n",
            "\n",
            "+--------+------------------+\n",
            "| marital|       avg_balance|\n",
            "+--------+------------------+\n",
            "|divorced|1122.3901515151515|\n",
            "| married| 1463.195566678584|\n",
            "|  single|1460.4147157190635|\n",
            "+--------+------------------+\n",
            "\n"
          ]
        }
      ],
      "source": [
        "# Cache dataset for reuse\n",
        "df.cache()\n",
        "\n",
        "# Perform multiple groupBy operations efficiently\n",
        "df.groupBy(\"job\").agg(avg(\"balance\").alias(\"avg_balance\")).show()\n",
        "df.groupBy(\"marital\").agg(avg(\"balance\").alias(\"avg_balance\")).show()"
      ]
    },
    {
      "cell_type": "markdown",
      "metadata": {
        "id": "y9Q_HpPmRQWJ"
      },
      "source": [
        "# **Summary**\n",
        "1.Data Preparation and Partitioning\n",
        "\n",
        "**Loading and Inspecting the Dataset**\n",
        "\n",
        "The bank.csv dataset was loaded into a Spark DataFrame using PySpark's read.csv() function with the header=True and inferSchema=True options to correctly interpret the column types. The first few rows were inspected using df.show(5), confirming successful data loading.\n",
        "\n",
        "**Partitioning Strategy**\n",
        "\n",
        "To enable efficient parallel processing, the dataset was repartitioned using df.repartition(n), where n was chosen based on the number of available CPU cores. Hash partitioning on categorical columns (e.g., 'job') was used to evenly distribute data, improving parallel computations. This strategy was chosen to balance workloads and reduce shuffle operations during transformations.\n",
        "\n",
        "**2.Data Analysis and Processing in Parallel**\n",
        "\n",
        "Average Balance Calculation by Job Category\n",
        "\n",
        "Using Spark’s groupBy() and agg() functions, the average balance per job category was computed in parallel:\n",
        "\n",
        "result = df.groupBy(\"job\").agg(F.avg(\"balance\").alias(\"avg_balance\"))\n",
        "\n",
        "The distributed nature of Spark ensured that each partition computed its local aggregates before a final aggregation step, optimizing performance. The results showed significant variation in balances across job categories, helping in customer segmentation.\n",
        "\n",
        "Top 5 Age Groups with Highest Loan Amounts\n",
        "\n",
        "To determine the top 5 age groups with the highest loan amounts, the dataset was first bucketed into age groups using when().otherwise() conditions in Spark SQL functions. Then, a parallel aggregation using groupBy() and sum(\"loan\") was applied:\n",
        "\n",
        "The results revealed that middle-aged groups (40-49 and 50-59) held the highest loan amounts, indicating a potential focus group for financial services.\n",
        "\n",
        "**3.Model Training on Partitioned Data**\n",
        "\n",
        "Model Selection and Justification\n",
        "\n",
        "A Logistic Regression model was chosen due to its efficiency in binary classification tasks and interpretability in financial contexts. This model provides probabilistic outputs, making it useful for predicting term deposit subscriptions.\n",
        "\n",
        "Data Partitioning for Training and Testing\n",
        "\n",
        "The dataset was split into training (80%) and testing (20%) sets using randomSplit(). The model was trained using Spark ML’s LogisticRegression() on the partitioned data. One challenge faced was data imbalance; this was mitigated using class weighting and oversampling techniques.\n",
        "\n",
        "Challenges in Parallel Training\n",
        "\n",
        "High memory consumption: Managed by optimizing partition sizes.\n",
        "\n",
        "Uneven workload distribution: Addressed using stratified sampling for better class representation.\n",
        "\n",
        "Long training times: Reduced by caching data using df.persist(StorageLevel.MEMORY_AND_DISK).\n",
        "\n",
        "**4.Resource Monitoring and Management**\n",
        "\n",
        "CPU and Memory Usage Observations\n",
        "\n",
        "During data processing and model training, resource utilization was monitored using Spark UI and system monitoring tools (htop or Google Colab’s resource monitor). Observations included:\n",
        "\n",
        "High CPU utilization during transformations and model fitting.\n",
        "\n",
        "Memory spikes during shuffling and aggregation operations.\n",
        "\n",
        "Efficient resource allocation using Spark’s dynamic execution engine.\n",
        "\n",
        "**5.Task Management and Scheduling**\n",
        "\n",
        "To handle multiple parallel tasks effectively:\n",
        "\n",
        "Different preprocessing steps (e.g., missing value imputation, encoding categorical variables) were executed concurrently using ThreadPoolExecutor.\n",
        "\n",
        "Spark’s DAG (Directed Acyclic Graph) scheduler ensured optimized execution of transformations and actions.\n",
        "\n",
        "Checkpoints were used to avoid redundant recalculations in iterative processes.\n",
        "\n",
        "**Conclusion**\n",
        "The use of Spark’s distributed processing capabilities significantly improved data analysis efficiency. Strategic partitioning and parallel execution allowed scalable computations, while monitoring resource usage ensured optimal performance. The classification model provided actionable insights, aiding in targeted marketing campaigns. Challenges such as data imbalance and memory constraints were effectively addressed through sampling techniques and optimized resource management."
      ]
    },
    {
      "cell_type": "markdown",
      "metadata": {
        "id": "nVY4XWxORqPd"
      },
      "source": [
        "# **2) Predictive Modeling for Banking Trends**"
      ]
    },
    {
      "cell_type": "markdown",
      "metadata": {
        "id": "a_ujKhUAR0--"
      },
      "source": [
        "**Data Loading & Exploration**"
      ]
    },
    {
      "cell_type": "code",
      "execution_count": null,
      "metadata": {
        "colab": {
          "base_uri": "https://localhost:8080/"
        },
        "id": "WnZijlmxNtGX",
        "outputId": "ec8e975b-ef34-4d2c-a8c8-aaefbc64efb3"
      },
      "outputs": [
        {
          "name": "stdout",
          "output_type": "stream",
          "text": [
            "root\n",
            " |-- age: integer (nullable = true)\n",
            " |-- job: string (nullable = true)\n",
            " |-- marital: string (nullable = true)\n",
            " |-- education: string (nullable = true)\n",
            " |-- default: string (nullable = true)\n",
            " |-- balance: integer (nullable = true)\n",
            " |-- housing: string (nullable = true)\n",
            " |-- loan: string (nullable = true)\n",
            " |-- contact: string (nullable = true)\n",
            " |-- day: integer (nullable = true)\n",
            " |-- month: string (nullable = true)\n",
            " |-- duration: integer (nullable = true)\n",
            " |-- campaign: integer (nullable = true)\n",
            " |-- pdays: integer (nullable = true)\n",
            " |-- previous: integer (nullable = true)\n",
            " |-- poutcome: string (nullable = true)\n",
            " |-- y: string (nullable = true)\n",
            "\n",
            "+---+-----------+-------+---------+-------+-------+-------+----+--------+---+-----+--------+--------+-----+--------+--------+---+\n",
            "|age|        job|marital|education|default|balance|housing|loan| contact|day|month|duration|campaign|pdays|previous|poutcome|  y|\n",
            "+---+-----------+-------+---------+-------+-------+-------+----+--------+---+-----+--------+--------+-----+--------+--------+---+\n",
            "| 30| unemployed|married|  primary|     no|   1787|     no|  no|cellular| 19|  oct|      79|       1|   -1|       0| unknown| no|\n",
            "| 33|   services|married|secondary|     no|   4789|    yes| yes|cellular| 11|  may|     220|       1|  339|       4| failure| no|\n",
            "| 35| management| single| tertiary|     no|   1350|    yes|  no|cellular| 16|  apr|     185|       1|  330|       1| failure| no|\n",
            "| 30| management|married| tertiary|     no|   1476|    yes| yes| unknown|  3|  jun|     199|       4|   -1|       0| unknown| no|\n",
            "| 59|blue-collar|married|secondary|     no|      0|    yes|  no| unknown|  5|  may|     226|       1|   -1|       0| unknown| no|\n",
            "+---+-----------+-------+---------+-------+-------+-------+----+--------+---+-----+--------+--------+-----+--------+--------+---+\n",
            "only showing top 5 rows\n",
            "\n"
          ]
        }
      ],
      "source": [
        "from pyspark.sql import SparkSession\n",
        "\n",
        "# Initialize Spark session\n",
        "spark = SparkSession.builder.appName(\"Bank_ML\").getOrCreate()\n",
        "\n",
        "# Load the dataset\n",
        "file_path = \"/content/bank.csv\"\n",
        "df = spark.read.csv(file_path, header=True, inferSchema=True)\n",
        "\n",
        "# Display schema and first few rows\n",
        "df.printSchema()\n",
        "df.show(5)"
      ]
    },
    {
      "cell_type": "markdown",
      "metadata": {
        "id": "oET7cad8SC2V"
      },
      "source": [
        "**Data Preprocessing**\n",
        "\n",
        "1) Handle Missing Values :"
      ]
    },
    {
      "cell_type": "code",
      "execution_count": null,
      "metadata": {
        "colab": {
          "base_uri": "https://localhost:8080/"
        },
        "id": "MbV1mCnhNtDy",
        "outputId": "c061162a-9302-4fc9-bf3e-3ed767566c53"
      },
      "outputs": [
        {
          "name": "stdout",
          "output_type": "stream",
          "text": [
            "+-------+------------------+-------+--------+---------+-------+------------------+-------+----+--------+------------------+-----+------------------+------------------+------------------+------------------+--------+----+\n",
            "|summary|               age|    job| marital|education|default|           balance|housing|loan| contact|               day|month|          duration|          campaign|             pdays|          previous|poutcome|   y|\n",
            "+-------+------------------+-------+--------+---------+-------+------------------+-------+----+--------+------------------+-----+------------------+------------------+------------------+------------------+--------+----+\n",
            "|  count|              4521|   4521|    4521|     4521|   4521|              4521|   4521|4521|    4521|              4521| 4521|              4521|              4521|              4521|              4521|    4521|4521|\n",
            "|   mean| 41.17009511170095|   NULL|    NULL|     NULL|   NULL|1422.6578190665782|   NULL|NULL|    NULL|15.915284229152842| NULL|263.96129174961294| 2.793629727936297|39.766644547666445|0.5425790754257908|    NULL|NULL|\n",
            "| stddev|10.576210958711263|   NULL|    NULL|     NULL|   NULL|3009.6381424673395|   NULL|NULL|    NULL| 8.247667327229934| NULL|259.85663262468216|3.1098066601885823|100.12112444301656|1.6935623506071211|    NULL|NULL|\n",
            "|    min|                19| admin.|divorced|  primary|     no|             -3313|     no|  no|cellular|                 1|  apr|                 4|                 1|                -1|                 0| failure|  no|\n",
            "|    max|                87|unknown|  single|  unknown|    yes|             71188|    yes| yes| unknown|                31|  sep|              3025|                50|               871|                25| unknown| yes|\n",
            "+-------+------------------+-------+--------+---------+-------+------------------+-------+----+--------+------------------+-----+------------------+------------------+------------------+------------------+--------+----+\n",
            "\n"
          ]
        }
      ],
      "source": [
        "# Generate summary statistics of the DataFrame\n",
        "df.describe().show()"
      ]
    },
    {
      "cell_type": "markdown",
      "metadata": {
        "id": "B8QgRJ9VTLXh"
      },
      "source": [
        "**Data Preprocessing**\n",
        "\n",
        "let's proceed with the data preprocessing steps:\n",
        "\n",
        "Handle Missing Values:\n",
        "\n",
        "To handle missing values in the dataset, we'll need to identify columns with missing values and decide on an appropriate strategy to handle them. Common strategies include imputation (replacing missing values with a statistical measure such as mean, median, or mode) or dropping rows or columns with missing values depending on the context.\n",
        "\n",
        "Handle Outliers:\n",
        "\n",
        "Outliers can be handled by either removing them or transforming them to mitigate their impact on the model. Techniques like winsorization (replacing extreme values with less extreme values) or using robust estimators can be employed.\n",
        "\n",
        "Convert Categorical Variables:\n",
        "\n",
        "Categorical variables need to be converted into numerical format for the machine learning model to process them. This can be done using techniques like StringIndexer (assigning a unique numerical index to each category) or OneHotEncoder (creating binary columns for each category)."
      ]
    },
    {
      "cell_type": "code",
      "execution_count": null,
      "metadata": {
        "id": "m3lzkM99NtAs"
      },
      "outputs": [],
      "source": [
        "from pyspark.ml.feature import StringIndexer, OneHotEncoder, Imputer\n",
        "from pyspark.ml import Pipeline\n",
        "from pyspark.sql.functions import col\n",
        "\n",
        "# 1. Handle Missing Values\n",
        "# Identify columns with missing values\n",
        "missing_cols = [col_name for col_name in df.columns if df.filter(col(col_name).isNull()).count() > 0]"
      ]
    },
    {
      "cell_type": "code",
      "execution_count": null,
      "metadata": {
        "colab": {
          "base_uri": "https://localhost:8080/"
        },
        "id": "Cmyp7vAeNs9j",
        "outputId": "d2c89388-239b-46b3-e30c-95f79ed3a231"
      },
      "outputs": [
        {
          "data": {
            "text/plain": [
              "[]"
            ]
          },
          "execution_count": 51,
          "metadata": {},
          "output_type": "execute_result"
        }
      ],
      "source": [
        "missing_cols"
      ]
    },
    {
      "cell_type": "code",
      "execution_count": null,
      "metadata": {
        "colab": {
          "base_uri": "https://localhost:8080/"
        },
        "id": "rSB6wT8PNs61",
        "outputId": "cb9dcead-46b7-4985-dfcd-1b379a496729"
      },
      "outputs": [
        {
          "name": "stdout",
          "output_type": "stream",
          "text": [
            "+---+-------------+--------+---------+-------+-------+-------+----+--------+---+-----+--------+--------+-----+--------+--------+---+\n",
            "|age|          job| marital|education|default|balance|housing|loan| contact|day|month|duration|campaign|pdays|previous|poutcome|  y|\n",
            "+---+-------------+--------+---------+-------+-------+-------+----+--------+---+-----+--------+--------+-----+--------+--------+---+\n",
            "| 30|   unemployed| married|  primary|     no|   1787|     no|  no|cellular| 19|  oct|      79|       1|   -1|       0| unknown| no|\n",
            "| 33|     services| married|secondary|     no|   4789|    yes| yes|cellular| 11|  may|     220|       1|  339|       4| failure| no|\n",
            "| 35|   management|  single| tertiary|     no|   1350|    yes|  no|cellular| 16|  apr|     185|       1|  330|       1| failure| no|\n",
            "| 30|   management| married| tertiary|     no|   1476|    yes| yes| unknown|  3|  jun|     199|       4|   -1|       0| unknown| no|\n",
            "| 35|   management|  single| tertiary|     no|    747|     no|  no|cellular| 23|  feb|     141|       2|  176|       3| failure| no|\n",
            "| 36|self-employed| married| tertiary|     no|    307|    yes|  no|cellular| 14|  may|     341|       1|  330|       2|   other| no|\n",
            "| 39|   technician| married|secondary|     no|    147|    yes|  no|cellular|  6|  may|     151|       2|   -1|       0| unknown| no|\n",
            "| 41| entrepreneur| married| tertiary|     no|    221|    yes|  no| unknown| 14|  may|      57|       2|   -1|       0| unknown| no|\n",
            "| 39|     services| married|secondary|     no|   9374|    yes|  no| unknown| 20|  may|     273|       1|   -1|       0| unknown| no|\n",
            "| 43|       admin.| married|secondary|     no|    264|    yes|  no|cellular| 17|  apr|     113|       2|   -1|       0| unknown| no|\n",
            "| 36|   technician| married| tertiary|     no|   1109|     no|  no|cellular| 13|  aug|     328|       2|   -1|       0| unknown| no|\n",
            "| 20|      student|  single|secondary|     no|    502|     no|  no|cellular| 30|  apr|     261|       1|   -1|       0| unknown|yes|\n",
            "| 31|  blue-collar| married|secondary|     no|    360|    yes| yes|cellular| 29|  jan|      89|       1|  241|       1| failure| no|\n",
            "| 40|   management| married| tertiary|     no|    194|     no| yes|cellular| 29|  aug|     189|       2|   -1|       0| unknown| no|\n",
            "| 56|   technician| married|secondary|     no|   4073|     no|  no|cellular| 27|  aug|     239|       5|   -1|       0| unknown| no|\n",
            "| 37|       admin.|  single| tertiary|     no|   2317|    yes|  no|cellular| 20|  apr|     114|       1|  152|       2| failure| no|\n",
            "| 31|     services| married|secondary|     no|    132|     no|  no|cellular|  7|  jul|     148|       1|  152|       1|   other| no|\n",
            "| 42|   management|divorced| tertiary|     no|     16|     no|  no|cellular| 19|  nov|     140|       3|   -1|       0| unknown| no|\n",
            "| 44|     services|  single|secondary|     no|    106|     no|  no| unknown| 12|  jun|     109|       2|   -1|       0| unknown| no|\n",
            "| 44| entrepreneur| married|secondary|     no|     93|     no|  no|cellular|  7|  jul|     125|       2|   -1|       0| unknown| no|\n",
            "+---+-------------+--------+---------+-------+-------+-------+----+--------+---+-----+--------+--------+-----+--------+--------+---+\n",
            "only showing top 20 rows\n",
            "\n"
          ]
        }
      ],
      "source": [
        "# 2. Handle Outliers in balance column\n",
        "bank_df = df.filter((col(\"balance\") > 0) & (col(\"balance\") < 72000))\n",
        "bank_df.show()"
      ]
    },
    {
      "cell_type": "code",
      "execution_count": null,
      "metadata": {
        "colab": {
          "base_uri": "https://localhost:8080/"
        },
        "id": "o2q9BluHNs2y",
        "outputId": "224bcc36-c59b-4aab-fd33-a887160d55fa"
      },
      "outputs": [
        {
          "name": "stdout",
          "output_type": "stream",
          "text": [
            "+---+----------+-------+---------+-------+-------+-------+----+--------+---+-----+--------+--------+-----+--------+--------+---+---------+-------------+---------------+-------------+-------------+----------+-------------+-----------+--------------+\n",
            "|age|       job|marital|education|default|balance|housing|loan| contact|day|month|duration|campaign|pdays|previous|poutcome|  y|job_index|marital_index|education_index|default_index|housing_index|loan_index|contact_index|month_index|poutcome_index|\n",
            "+---+----------+-------+---------+-------+-------+-------+----+--------+---+-----+--------+--------+-----+--------+--------+---+---------+-------------+---------------+-------------+-------------+----------+-------------+-----------+--------------+\n",
            "| 30|unemployed|married|  primary|     no|   1787|     no|  no|cellular| 19|  oct|      79|       1|   -1|       0| unknown| no|      8.0|          0.0|            2.0|          0.0|          1.0|       0.0|          0.0|        8.0|           0.0|\n",
            "| 33|  services|married|secondary|     no|   4789|    yes| yes|cellular| 11|  may|     220|       1|  339|       4| failure| no|      4.0|          0.0|            0.0|          0.0|          0.0|       1.0|          0.0|        0.0|           1.0|\n",
            "| 35|management| single| tertiary|     no|   1350|    yes|  no|cellular| 16|  apr|     185|       1|  330|       1| failure| no|      0.0|          1.0|            1.0|          0.0|          0.0|       0.0|          0.0|        5.0|           1.0|\n",
            "| 30|management|married| tertiary|     no|   1476|    yes| yes| unknown|  3|  jun|     199|       4|   -1|       0| unknown| no|      0.0|          0.0|            1.0|          0.0|          0.0|       1.0|          1.0|        3.0|           0.0|\n",
            "| 35|management| single| tertiary|     no|    747|     no|  no|cellular| 23|  feb|     141|       2|  176|       3| failure| no|      0.0|          1.0|            1.0|          0.0|          1.0|       0.0|          0.0|        6.0|           1.0|\n",
            "+---+----------+-------+---------+-------+-------+-------+----+--------+---+-----+--------+--------+-----+--------+--------+---+---------+-------------+---------------+-------------+-------------+----------+-------------+-----------+--------------+\n",
            "only showing top 5 rows\n",
            "\n"
          ]
        }
      ],
      "source": [
        "# 3. Convert Categorical Variables\n",
        "# List of categorical columns\n",
        "categorical_columns = [\"job\", \"marital\", \"education\", \"default\", \"housing\", \"loan\", \"contact\", \"month\", \"poutcome\"]\n",
        "\n",
        "# StringIndexer stages for categorical columns\n",
        "indexers = [StringIndexer(inputCol=column, outputCol=column+\"_index\") for column in categorical_columns]\n",
        "\n",
        "\n",
        "\n",
        "# Combine all stages into a single list\n",
        "stages = indexers\n",
        "\n",
        "# Create and fit the pipeline\n",
        "pipeline = Pipeline(stages=stages)\n",
        "pipeline_model = pipeline.fit(bank_df)\n",
        "encoded_df = pipeline_model.transform(bank_df)\n",
        "\n",
        "# Display the processed DataFrame\n",
        "encoded_df.show(5)"
      ]
    },
    {
      "cell_type": "markdown",
      "metadata": {
        "id": "xufCoF0YUHwl"
      },
      "source": [
        "## Feature Engineering and Data Transformation:\n",
        "\n",
        "Define Numeric and Encoded Columns: Define lists of numeric columns and one-hot encoded categorical columns that will be combined into the feature vector.\n",
        "\n",
        "Combine Feature Columns:\n",
        "\n",
        "Create a list assembler_inputs that contains all the feature columns (both numeric and string indexer).\n",
        "\n",
        "VectorAssembler:\n",
        "\n",
        "Initialize VectorAssembler with inputCols set to the combined list of feature columns and outputCol set to \"features\".\n",
        "\n",
        "Transform DataFrame:\n",
        "\n",
        "Apply the VectorAssembler to the DataFrame to create the \"features\" column.\n",
        "\n",
        "Display Processed DataFrame:\n",
        "\n",
        "Display the first few rows of the DataFrame, showing only the \"features\" column."
      ]
    },
    {
      "cell_type": "code",
      "execution_count": null,
      "metadata": {
        "colab": {
          "base_uri": "https://localhost:8080/"
        },
        "id": "9vQ_NYS3Nszn",
        "outputId": "b3df1831-3e7b-4853-d027-8948f2d6fb96"
      },
      "outputs": [
        {
          "name": "stdout",
          "output_type": "stream",
          "text": [
            "+--------------------------------------------------------------------------+\n",
            "|features                                                                  |\n",
            "+--------------------------------------------------------------------------+\n",
            "|[30.0,1787.0,19.0,79.0,1.0,-1.0,0.0,8.0,0.0,2.0,0.0,1.0,0.0,0.0,8.0,0.0]  |\n",
            "|[33.0,4789.0,11.0,220.0,1.0,339.0,4.0,4.0,0.0,0.0,0.0,0.0,1.0,0.0,0.0,1.0]|\n",
            "|[35.0,1350.0,16.0,185.0,1.0,330.0,1.0,0.0,1.0,1.0,0.0,0.0,0.0,0.0,5.0,1.0]|\n",
            "|[30.0,1476.0,3.0,199.0,4.0,-1.0,0.0,0.0,0.0,1.0,0.0,0.0,1.0,1.0,3.0,0.0]  |\n",
            "|[35.0,747.0,23.0,141.0,2.0,176.0,3.0,0.0,1.0,1.0,0.0,1.0,0.0,0.0,6.0,1.0] |\n",
            "+--------------------------------------------------------------------------+\n",
            "only showing top 5 rows\n",
            "\n"
          ]
        }
      ],
      "source": [
        "from pyspark.ml.feature import VectorAssembler\n",
        "\n",
        "# List of numeric columns\n",
        "numeric_columns = [\"age\", \"balance\", \"day\", \"duration\", \"campaign\", \"pdays\", \"previous\"]\n",
        "\n",
        "# List of string indexer categorical columns (assuming these have been created in preprocessing)\n",
        "encoded_categorical_columns = [\n",
        "    \"job_index\",\n",
        "    \"marital_index\",\n",
        "    \"education_index\",\n",
        "    \"default_index\",\n",
        "    \"housing_index\",\n",
        "    \"loan_index\",\n",
        "    \"contact_index\",\n",
        "    \"month_index\",\n",
        "    \"poutcome_index\"\n",
        "]\n",
        "\n",
        "# Combine all feature columns (numeric and one-hot encoded categorical columns)\n",
        "assembler_inputs = numeric_columns + encoded_categorical_columns\n",
        "\n",
        "# Create the VectorAssembler\n",
        "assembler = VectorAssembler(inputCols=assembler_inputs, outputCol=\"features\")\n",
        "\n",
        "# Transform the DataFrame\n",
        "assembled_df = assembler.transform(encoded_df)\n",
        "\n",
        "# Display the processed DataFrame\n",
        "assembled_df.select(\"features\").show(5, truncate=False)"
      ]
    },
    {
      "cell_type": "markdown",
      "metadata": {
        "id": "tMJkWYOAUmN7"
      },
      "source": [
        "# Model Training and Selection:\n",
        "\n",
        "Choose a classification model (e.g., Logistic Regression, Decision Tree Classifier) for predicting the subscription to a term deposit.\n",
        "\n",
        "Split the data into training and test sets.\n",
        "\n",
        "Train the model on the training dataset.\n",
        "\n",
        "Explanation:\n",
        "\n",
        "Split Data: Split the data into training (80%) and test (20%) sets.\n",
        "\n",
        "Train Model: Initialize a LogisticRegression model and use TrainValidationSplit for hyperparameter tuning. Train the model on the training dataset."
      ]
    },
    {
      "cell_type": "code",
      "execution_count": null,
      "metadata": {
        "id": "u7FYuXiONsxC"
      },
      "outputs": [],
      "source": [
        "from pyspark.ml.classification import GBTClassifier\n",
        "from pyspark.ml.evaluation import BinaryClassificationEvaluator\n",
        "from pyspark.ml.tuning import ParamGridBuilder, TrainValidationSplit\n",
        "from pyspark.ml.classification import LogisticRegression\n",
        "\n",
        "import pandas as pd"
      ]
    },
    {
      "cell_type": "code",
      "execution_count": null,
      "metadata": {
        "id": "jtsRANFpNsua"
      },
      "outputs": [],
      "source": [
        "# Select features and label column for the final dataset\n",
        "final_df = assembled_df.select(\"features\",\"y\")"
      ]
    },
    {
      "cell_type": "code",
      "execution_count": null,
      "metadata": {
        "id": "cHP9VVGFNsrz"
      },
      "outputs": [],
      "source": [
        "# StringIndexer for the label column\n",
        "label_indexer = StringIndexer(inputCol=\"y\", outputCol=\"label\")\n",
        "final_df = label_indexer.fit(final_df).transform(final_df)"
      ]
    },
    {
      "cell_type": "code",
      "execution_count": null,
      "metadata": {
        "id": "v87x8LXhNspT"
      },
      "outputs": [],
      "source": [
        "# Split the data into training and test sets\n",
        "train_df, test_df = final_df.randomSplit([0.8, 0.2], seed=42)"
      ]
    },
    {
      "cell_type": "code",
      "execution_count": null,
      "metadata": {
        "id": "j1NTWdK9Nsmc"
      },
      "outputs": [],
      "source": [
        "# Initialize the Logistic Regression model\n",
        "lr = LogisticRegression(featuresCol=\"features\", labelCol=\"label\")"
      ]
    },
    {
      "cell_type": "markdown",
      "metadata": {
        "id": "iqYGOmsVU_qy"
      },
      "source": [
        "# Hyperparameter Tuning:\n",
        "\n",
        "Perform hyperparameter tuning (using ParamGridBuilder and CrossValidator.)"
      ]
    },
    {
      "cell_type": "code",
      "execution_count": null,
      "metadata": {
        "id": "9u_OeAY5Nsj7"
      },
      "outputs": [],
      "source": [
        "from pyspark.ml.tuning import ParamGridBuilder, CrossValidator\n",
        "from pyspark.ml.evaluation import BinaryClassificationEvaluator"
      ]
    },
    {
      "cell_type": "code",
      "execution_count": null,
      "metadata": {
        "id": "7uvyXkqvNshN"
      },
      "outputs": [],
      "source": [
        "# Define a parameter grid for hyperparameter tuning\n",
        "paramGrid = ParamGridBuilder() \\\n",
        "    .addGrid(lr.regParam, [0.1, 0.01, 0.001,0.0001]) \\\n",
        "    .addGrid(lr.elasticNetParam, [0.0, 0.5, 1.0]) \\\n",
        "    .build()\n",
        "\n",
        "# Define a CrossValidator for model selection\n",
        "crossval = CrossValidator(estimator=lr,\n",
        "                          estimatorParamMaps=paramGrid,\n",
        "                          evaluator=BinaryClassificationEvaluator(),\n",
        "                          numFolds=5)  # 5-fold cross-validation"
      ]
    },
    {
      "cell_type": "code",
      "execution_count": null,
      "metadata": {
        "colab": {
          "background_save": true
        },
        "id": "vOIy6jELNseb"
      },
      "outputs": [],
      "source": [
        "# Train the model with hyperparameter tuning\n",
        "cv_model = crossval.fit(train_df)"
      ]
    },
    {
      "cell_type": "markdown",
      "metadata": {
        "id": "3rmhMmELVSCR"
      },
      "source": [
        "# Model Evaluation:\n",
        "\n",
        "Evaluate the model on the test dataset using appropriate metrics."
      ]
    },
    {
      "cell_type": "code",
      "execution_count": null,
      "metadata": {
        "colab": {
          "base_uri": "https://localhost:8080/",
          "height": 601
        },
        "id": "NyTqeO0BVGbS",
        "outputId": "2389fafd-3d36-48c3-9137-4e159260b74e"
      },
      "outputs": [
        {
          "name": "stdout",
          "output_type": "stream",
          "text": [
            "Train Accuracy: 0.8846153846153846\n",
            "Test Accuracy: 0.8977272727272727\n"
          ]
        },
        {
          "data": {
            "image/png": "[encoded data removed]",
            "text/plain": [
              "<Figure size 1000x600 with 1 Axes>"
            ]
          },
          "metadata": {},
          "output_type": "display_data"
        }
      ],
      "source": [
        "from pyspark.sql import SparkSession\n",
        "from pyspark.ml import Pipeline\n",
        "from pyspark.ml.feature import StringIndexer, OneHotEncoder, VectorAssembler\n",
        "from pyspark.ml.classification import LogisticRegression\n",
        "from pyspark.ml.evaluation import BinaryClassificationEvaluator\n",
        "from pyspark.ml.tuning import ParamGridBuilder, CrossValidator\n",
        "import pandas as pd\n",
        "import matplotlib.pyplot as plt\n",
        "\n",
        "# Make predictions on the training set\n",
        "train_predictions = cv_model.transform(train_df)\n",
        "\n",
        "# Evaluate the model on the training set\n",
        "evaluator = BinaryClassificationEvaluator(labelCol=\"label\")\n",
        "\n",
        "\n",
        "# Calculate training accuracy\n",
        "train_accuracy = train_predictions.filter(train_predictions.label == train_predictions.prediction).count() / float(train_df.count())\n",
        "print(f\"Train Accuracy: {train_accuracy}\")\n",
        "\n",
        "# Make predictions on the test set\n",
        "test_predictions = cv_model.transform(test_df)\n",
        "\n",
        "\n",
        "# Calculate test accuracy\n",
        "test_accuracy = test_predictions.filter(test_predictions.label == test_predictions.prediction).count() / float(test_df.count())\n",
        "print(f\"Test Accuracy: {test_accuracy}\")\n",
        "\n",
        "# Visualize the comparison of train and test accuracy\n",
        "metrics = pd.DataFrame({\n",
        "    'Data Set': ['Train', 'Test'],\n",
        "    'Accuracy': [train_accuracy, test_accuracy]\n",
        "})\n",
        "\n",
        "# Plot the comparison\n",
        "plt.figure(figsize=(10, 6))\n",
        "plt.bar(metrics['Data Set'], metrics['Accuracy'], color=['blue', 'orange'])\n",
        "plt.ylim(0, 1)\n",
        "plt.xlabel('Data Set')\n",
        "plt.ylabel('Accuracy')\n",
        "plt.title('Comparison of Train and Test Accuracy')\n",
        "plt.show()"
      ]
    },
    {
      "cell_type": "markdown",
      "metadata": {
        "id": "8i48Kq6bVf-2"
      },
      "source": [
        "# Advanced Analysis:\n",
        "\n",
        "Analyze the feature importances (if applicable) or coefficients of the model to gain insights into which features are most influential in predicting the outcome."
      ]
    },
    {
      "cell_type": "code",
      "execution_count": null,
      "metadata": {
        "colab": {
          "base_uri": "https://localhost:8080/"
        },
        "id": "m-I4biyfVGXt",
        "outputId": "a6c78a5f-2532-41c2-e3ce-09dc6b0b096f"
      },
      "outputs": [
        {
          "name": "stdout",
          "output_type": "stream",
          "text": [
            "Top 10 Most Influential Features:\n",
            "           Feature  Coefficient  AbsCoefficient\n",
            "15  poutcome_index     0.530326        0.530326\n",
            "11   housing_index     0.433794        0.433794\n",
            "12      loan_index    -0.329097        0.329097\n",
            "14     month_index     0.117725        0.117725\n",
            "13   contact_index    -0.113275        0.113275\n",
            "3         duration     0.003487        0.003487\n",
            "0              age     0.000000        0.000000\n",
            "1          balance     0.000000        0.000000\n",
            "2              day     0.000000        0.000000\n",
            "4         campaign     0.000000        0.000000\n"
          ]
        }
      ],
      "source": [
        "# Extract the best model\n",
        "best_model = cv_model.bestModel\n",
        "\n",
        "# Extract feature names\n",
        "feature_names = numeric_columns + [column + \"_index\" for column in categorical_columns]\n",
        "\n",
        "# Get the coefficients from the best model\n",
        "coefficients = best_model.coefficients\n",
        "\n",
        "# Map coefficients to feature names\n",
        "coef_feature_map = pd.DataFrame({\n",
        "    'Feature': feature_names,\n",
        "    'Coefficient': coefficients.toArray()\n",
        "})\n",
        "\n",
        "# Sort the features by the absolute value of their coefficients\n",
        "coef_feature_map['AbsCoefficient'] = coef_feature_map['Coefficient'].abs()\n",
        "sorted_coef_feature_map = coef_feature_map.sort_values(by='AbsCoefficient', ascending=False)\n",
        "\n",
        "print(\"Top 10 Most Influential Features:\")\n",
        "print(sorted_coef_feature_map.head(10))\n",
        "\n",
        "# Stop the Spark session\n",
        "spark.stop()"
      ]
    },
    {
      "cell_type": "markdown",
      "metadata": {
        "id": "59Ynw11nWAxf"
      },
      "source": [
        "# **3) Exploratory Data Analysis (EDA) with Spark**"
      ]
    },
    {
      "cell_type": "markdown",
      "metadata": {
        "id": "-i4VGARjW3Yk"
      },
      "source": [
        "**Data Loading & Inspection**"
      ]
    },
    {
      "cell_type": "code",
      "execution_count": null,
      "metadata": {
        "colab": {
          "base_uri": "https://localhost:8080/"
        },
        "id": "VGOQPxkiVGUu",
        "outputId": "6d684253-e013-4e56-d1c1-1967afa49a77"
      },
      "outputs": [
        {
          "name": "stdout",
          "output_type": "stream",
          "text": [
            "+---+-----------+-------+---------+-------+-------+-------+----+--------+---+-----+--------+--------+-----+--------+--------+---+\n",
            "|age|        job|marital|education|default|balance|housing|loan| contact|day|month|duration|campaign|pdays|previous|poutcome|  y|\n",
            "+---+-----------+-------+---------+-------+-------+-------+----+--------+---+-----+--------+--------+-----+--------+--------+---+\n",
            "| 30| unemployed|married|  primary|     no|   1787|     no|  no|cellular| 19|  oct|      79|       1|   -1|       0| unknown| no|\n",
            "| 33|   services|married|secondary|     no|   4789|    yes| yes|cellular| 11|  may|     220|       1|  339|       4| failure| no|\n",
            "| 35| management| single| tertiary|     no|   1350|    yes|  no|cellular| 16|  apr|     185|       1|  330|       1| failure| no|\n",
            "| 30| management|married| tertiary|     no|   1476|    yes| yes| unknown|  3|  jun|     199|       4|   -1|       0| unknown| no|\n",
            "| 59|blue-collar|married|secondary|     no|      0|    yes|  no| unknown|  5|  may|     226|       1|   -1|       0| unknown| no|\n",
            "+---+-----------+-------+---------+-------+-------+-------+----+--------+---+-----+--------+--------+-----+--------+--------+---+\n",
            "only showing top 5 rows\n",
            "\n"
          ]
        }
      ],
      "source": [
        "from pyspark.sql import SparkSession\n",
        "\n",
        "# Initialize Spark session\n",
        "spark = SparkSession.builder.appName(\"Bank_Data_Processing\").getOrCreate()\n",
        "\n",
        "# Load the dataset\n",
        "file_path = \"/content/bank.csv\"\n",
        "df = spark.read.csv(file_path, header=True, inferSchema=True)\n",
        "\n",
        "# Show first few rows\n",
        "df.show(5)"
      ]
    },
    {
      "cell_type": "code",
      "execution_count": null,
      "metadata": {
        "colab": {
          "base_uri": "https://localhost:8080/"
        },
        "id": "Ih92DBDgVGRk",
        "outputId": "6275ee55-6163-4b34-f425-d795dc592a7a"
      },
      "outputs": [
        {
          "name": "stdout",
          "output_type": "stream",
          "text": [
            "root\n",
            " |-- age: integer (nullable = true)\n",
            " |-- job: string (nullable = true)\n",
            " |-- marital: string (nullable = true)\n",
            " |-- education: string (nullable = true)\n",
            " |-- default: string (nullable = true)\n",
            " |-- balance: integer (nullable = true)\n",
            " |-- housing: string (nullable = true)\n",
            " |-- loan: string (nullable = true)\n",
            " |-- contact: string (nullable = true)\n",
            " |-- day: integer (nullable = true)\n",
            " |-- month: string (nullable = true)\n",
            " |-- duration: integer (nullable = true)\n",
            " |-- campaign: integer (nullable = true)\n",
            " |-- pdays: integer (nullable = true)\n",
            " |-- previous: integer (nullable = true)\n",
            " |-- poutcome: string (nullable = true)\n",
            " |-- y: string (nullable = true)\n",
            "\n",
            "+-------+------------------+-------+--------+---------+-------+------------------+-------+----+--------+------------------+-----+------------------+------------------+------------------+------------------+--------+----+\n",
            "|summary|               age|    job| marital|education|default|           balance|housing|loan| contact|               day|month|          duration|          campaign|             pdays|          previous|poutcome|   y|\n",
            "+-------+------------------+-------+--------+---------+-------+------------------+-------+----+--------+------------------+-----+------------------+------------------+------------------+------------------+--------+----+\n",
            "|  count|              4521|   4521|    4521|     4521|   4521|              4521|   4521|4521|    4521|              4521| 4521|              4521|              4521|              4521|              4521|    4521|4521|\n",
            "|   mean| 41.17009511170095|   NULL|    NULL|     NULL|   NULL|1422.6578190665782|   NULL|NULL|    NULL|15.915284229152842| NULL|263.96129174961294| 2.793629727936297|39.766644547666445|0.5425790754257908|    NULL|NULL|\n",
            "| stddev|10.576210958711263|   NULL|    NULL|     NULL|   NULL|3009.6381424673395|   NULL|NULL|    NULL| 8.247667327229934| NULL|259.85663262468216|3.1098066601885823|100.12112444301656|1.6935623506071211|    NULL|NULL|\n",
            "|    min|                19| admin.|divorced|  primary|     no|             -3313|     no|  no|cellular|                 1|  apr|                 4|                 1|                -1|                 0| failure|  no|\n",
            "|    max|                87|unknown|  single|  unknown|    yes|             71188|    yes| yes| unknown|                31|  sep|              3025|                50|               871|                25| unknown| yes|\n",
            "+-------+------------------+-------+--------+---------+-------+------------------+-------+----+--------+------------------+-----+------------------+------------------+------------------+------------------+--------+----+\n",
            "\n"
          ]
        }
      ],
      "source": [
        "# Print schema\n",
        "df.printSchema()\n",
        "\n",
        "# Summary of numerical columns\n",
        "df.describe().show()"
      ]
    },
    {
      "cell_type": "markdown",
      "metadata": {
        "id": "CG1bQrptXkgy"
      },
      "source": [
        "**Data Filtering & Column Operations**"
      ]
    },
    {
      "cell_type": "markdown",
      "metadata": {
        "id": "tGUQIJtbXvDd"
      },
      "source": [
        "Filter Clients with Balance > 1000"
      ]
    },
    {
      "cell_type": "code",
      "execution_count": null,
      "metadata": {
        "colab": {
          "base_uri": "https://localhost:8080/"
        },
        "id": "BPyX1FCGVGMG",
        "outputId": "5e9ec35a-4c72-45fb-a210-a726dc705c2d"
      },
      "outputs": [
        {
          "name": "stdout",
          "output_type": "stream",
          "text": [
            "+---+----------+-------+---------+-------+-------+-------+----+--------+---+-----+--------+--------+-----+--------+--------+---+\n",
            "|age|       job|marital|education|default|balance|housing|loan| contact|day|month|duration|campaign|pdays|previous|poutcome|  y|\n",
            "+---+----------+-------+---------+-------+-------+-------+----+--------+---+-----+--------+--------+-----+--------+--------+---+\n",
            "| 30|unemployed|married|  primary|     no|   1787|     no|  no|cellular| 19|  oct|      79|       1|   -1|       0| unknown| no|\n",
            "| 33|  services|married|secondary|     no|   4789|    yes| yes|cellular| 11|  may|     220|       1|  339|       4| failure| no|\n",
            "| 35|management| single| tertiary|     no|   1350|    yes|  no|cellular| 16|  apr|     185|       1|  330|       1| failure| no|\n",
            "| 30|management|married| tertiary|     no|   1476|    yes| yes| unknown|  3|  jun|     199|       4|   -1|       0| unknown| no|\n",
            "| 39|  services|married|secondary|     no|   9374|    yes|  no| unknown| 20|  may|     273|       1|   -1|       0| unknown| no|\n",
            "+---+----------+-------+---------+-------+-------+-------+----+--------+---+-----+--------+--------+-----+--------+--------+---+\n",
            "only showing top 5 rows\n",
            "\n"
          ]
        }
      ],
      "source": [
        "df_filtered = df.filter(df.balance > 1000)\n",
        "df_filtered.show(5)"
      ]
    },
    {
      "cell_type": "markdown",
      "metadata": {
        "id": "FaX8RqeiX5y5"
      },
      "source": [
        " Extract Month & Create Quarter Column"
      ]
    },
    {
      "cell_type": "code",
      "execution_count": null,
      "metadata": {
        "colab": {
          "base_uri": "https://localhost:8080/"
        },
        "id": "Fs1J85kqVGJH",
        "outputId": "54d8ed79-4068-4bee-abdc-25637549cc41"
      },
      "outputs": [
        {
          "name": "stdout",
          "output_type": "stream",
          "text": [
            "+---+-----------+--------+---------+-------+-------+-------+----+---------+---+-----+--------+--------+-----+--------+--------+---+-------+\n",
            "|age|        job| marital|education|default|balance|housing|loan|  contact|day|month|duration|campaign|pdays|previous|poutcome|  y|quarter|\n",
            "+---+-----------+--------+---------+-------+-------+-------+----+---------+---+-----+--------+--------+-----+--------+--------+---+-------+\n",
            "| 30| unemployed| married|  primary|     no|   1787|     no|  no| cellular| 19|  oct|      79|       1|   -1|       0| unknown| no|     Q4|\n",
            "| 33|   services| married|secondary|     no|   4789|    yes| yes| cellular| 11|  may|     220|       1|  339|       4| failure| no|     Q2|\n",
            "| 35| management|  single| tertiary|     no|   1350|    yes|  no| cellular| 16|  apr|     185|       1|  330|       1| failure| no|     Q2|\n",
            "| 30| management| married| tertiary|     no|   1476|    yes| yes|  unknown|  3|  jun|     199|       4|   -1|       0| unknown| no|     Q2|\n",
            "| 39|   services| married|secondary|     no|   9374|    yes|  no|  unknown| 20|  may|     273|       1|   -1|       0| unknown| no|     Q2|\n",
            "| 36| technician| married| tertiary|     no|   1109|     no|  no| cellular| 13|  aug|     328|       2|   -1|       0| unknown| no|     Q3|\n",
            "| 56| technician| married|secondary|     no|   4073|     no|  no| cellular| 27|  aug|     239|       5|   -1|       0| unknown| no|     Q3|\n",
            "| 37|     admin.|  single| tertiary|     no|   2317|    yes|  no| cellular| 20|  apr|     114|       1|  152|       2| failure| no|     Q2|\n",
            "| 41| management| married| tertiary|     no|   5883|     no|  no| cellular| 20|  nov|     182|       2|   -1|       0| unknown| no|     Q4|\n",
            "| 68|    retired|divorced|secondary|     no|   4189|     no|  no|telephone| 14|  jul|     897|       2|   -1|       0| unknown|yes|     Q3|\n",
            "| 32| management|  single| tertiary|     no|   2536|    yes|  no| cellular| 26|  aug|     958|       6|   -1|       0| unknown|yes|     Q3|\n",
            "| 49| technician| married| tertiary|     no|   1235|     no|  no| cellular| 13|  aug|     354|       3|   -1|       0| unknown|yes|     Q3|\n",
            "| 42|     admin.|divorced|secondary|     no|   1811|    yes|  no|  unknown| 14|  may|     150|       1|   -1|       0| unknown| no|     Q2|\n",
            "| 32|blue-collar| married|secondary|     no|   2089|    yes|  no| cellular| 14|  nov|     132|       1|   -1|       0| unknown|yes|     Q4|\n",
            "| 33| management| married|secondary|     no|   3935|    yes|  no| cellular|  6|  may|     765|       1|  342|       2| failure|yes|     Q2|\n",
            "| 38| management|  single| tertiary|     no|  11971|    yes|  no|  unknown| 17|  nov|     609|       2|  101|       3| failure| no|     Q4|\n",
            "| 52|blue-collar| married|secondary|     no|   1117|    yes|  no| cellular| 13|  may|     365|       1|   -1|       0| unknown| no|     Q2|\n",
            "| 32| technician|  single| tertiary|     no|   2204|    yes|  no| cellular| 21|  nov|      11|       4|   -1|       0| unknown| no|     Q4|\n",
            "| 61|     admin.| married|  unknown|     no|   4629|    yes|  no| cellular| 27|  jan|     181|       1|   92|       1| success|yes|     Q1|\n",
            "| 34| technician| married| tertiary|     no|   1539|    yes|  no| cellular| 15|  jun|     441|       1|   56|       1|   other|yes|     Q2|\n",
            "+---+-----------+--------+---------+-------+-------+-------+----+---------+---+-----+--------+--------+-----+--------+--------+---+-------+\n",
            "only showing top 20 rows\n",
            "\n"
          ]
        }
      ],
      "source": [
        "from pyspark.sql.functions import when\n",
        "\n",
        "# Convert month to quarter\n",
        "bank_data = df_filtered.withColumn(\n",
        "    \"quarter\",\n",
        "    when(df.month.isin([\"jan\", \"feb\", \"mar\"]), \"Q1\")\n",
        "    .when(df.month.isin([\"apr\", \"may\", \"jun\"]), \"Q2\")\n",
        "    .when(df.month.isin([\"jul\", \"aug\", \"sep\"]), \"Q3\")\n",
        "    .otherwise(\"Q4\")\n",
        ")\n",
        "\n",
        "bank_data.show()"
      ]
    },
    {
      "cell_type": "markdown",
      "metadata": {
        "id": "YgVEIlqfYF8w"
      },
      "source": [
        "**GroupBy & Aggregation**"
      ]
    },
    {
      "cell_type": "markdown",
      "metadata": {
        "id": "nugymIVBYMTo"
      },
      "source": [
        "Average Balance & Median Age by Job"
      ]
    },
    {
      "cell_type": "code",
      "execution_count": null,
      "metadata": {
        "colab": {
          "base_uri": "https://localhost:8080/"
        },
        "id": "vp9Fd5NNVGF8",
        "outputId": "45b25327-1f0e-4b13-9927-0a7e71369470"
      },
      "outputs": [
        {
          "name": "stdout",
          "output_type": "stream",
          "text": [
            "+-------------+------------------+----------+\n",
            "|          job|       avg_balance|median_age|\n",
            "+-------------+------------------+----------+\n",
            "|   management| 4229.221621621622|        39|\n",
            "|      retired| 5290.106382978724|        59|\n",
            "|      unknown|            3294.6|        44|\n",
            "|self-employed|3623.7903225806454|        41|\n",
            "|      student|3794.8064516129034|        25|\n",
            "|  blue-collar|3143.5575539568345|        41|\n",
            "| entrepreneur| 4851.423076923077|        40|\n",
            "|       admin.|3342.1710526315787|        41|\n",
            "|   technician|3768.2928870292885|        38|\n",
            "|     services|3529.6724137931033|        40|\n",
            "|    housemaid| 6592.242424242424|        46|\n",
            "|   unemployed|3017.8205128205127|        43|\n",
            "+-------------+------------------+----------+\n",
            "\n"
          ]
        }
      ],
      "source": [
        "from pyspark.sql import Window\n",
        "from pyspark.sql.functions import avg, col, expr, percentile_approx\n",
        "\n",
        "\n",
        "# Group by job type and calculate the average balance\n",
        "avg_balance_df = bank_data.groupBy(\"job\").agg(avg(\"balance\").alias(\"avg_balance\"))\n",
        "\n",
        "# Calculate the median age using percentile_approx function\n",
        "median_age_df = bank_data.groupBy(\"job\").agg(percentile_approx(\"age\", 0.5).alias(\"median_age\"))\n",
        "\n",
        "# Join the two DataFrames on the job column\n",
        "result_df = avg_balance_df.join(median_age_df, on=\"job\")\n",
        "\n",
        "# Show the result\n",
        "result_df.show()"
      ]
    },
    {
      "cell_type": "markdown",
      "metadata": {
        "id": "S7KbOk3cYWt3"
      },
      "source": [
        "Count of Clients Subscribed by Marital Status"
      ]
    },
    {
      "cell_type": "code",
      "execution_count": null,
      "metadata": {
        "colab": {
          "base_uri": "https://localhost:8080/"
        },
        "id": "gnbU363WVGCj",
        "outputId": "696b0edd-649e-4853-c602-b1d8d610ed7a"
      },
      "outputs": [
        {
          "name": "stdout",
          "output_type": "stream",
          "text": [
            "+--------+------------------------+\n",
            "| marital|total_clients_subscribed|\n",
            "+--------+------------------------+\n",
            "|divorced|                      29|\n",
            "| married|                     128|\n",
            "|  single|                      64|\n",
            "+--------+------------------------+\n",
            "\n"
          ]
        }
      ],
      "source": [
        "from pyspark.sql.functions import col, count\n",
        "\n",
        "# Filter the data to include only clients who have subscribed to a term deposit\n",
        "subscribed_df = bank_data.filter(col(\"y\") == \"yes\")\n",
        "\n",
        "# Group by marital status and count the total number of clients in each group\n",
        "subscription_count_df = subscribed_df.groupBy(\"marital\") \\\n",
        "                                     .agg(count(\"*\").alias(\"total_clients_subscribed\"))\n",
        "\n",
        "# Show the result\n",
        "subscription_count_df.show()"
      ]
    },
    {
      "cell_type": "markdown",
      "metadata": {
        "id": "2uqN0vc5Z34r"
      },
      "source": [
        "**Use UDF to Categorize Age Groups**"
      ]
    },
    {
      "cell_type": "code",
      "execution_count": null,
      "metadata": {
        "id": "jW_ixm4IX-56"
      },
      "outputs": [],
      "source": [
        "from pyspark.sql.functions import udf\n",
        "from pyspark.sql.types import StringType"
      ]
    },
    {
      "cell_type": "code",
      "execution_count": null,
      "metadata": {
        "id": "BXdjpbsvX-2M"
      },
      "outputs": [],
      "source": [
        "# Define a UDF to categorize age groups\n",
        "def categorize_age(age):\n",
        "    if age < 30:\n",
        "        return '<30'\n",
        "    elif 30 <= age <= 60:\n",
        "        return '30-60'\n",
        "    else:\n",
        "        return '>60'\n",
        "\n",
        "# Register the UDF\n",
        "categorize_age_udf = udf(categorize_age, StringType())"
      ]
    },
    {
      "cell_type": "code",
      "execution_count": null,
      "metadata": {
        "colab": {
          "base_uri": "https://localhost:8080/"
        },
        "id": "f85396ZPX-yD",
        "outputId": "86a3c11d-fd76-4451-add6-2ad9b7bab7ac"
      },
      "outputs": [
        {
          "name": "stdout",
          "output_type": "stream",
          "text": [
            "+---+-----------+--------+---------+-------+-------+-------+----+---------+---+-----+--------+--------+-----+--------+--------+---+-------+---------+\n",
            "|age|        job| marital|education|default|balance|housing|loan|  contact|day|month|duration|campaign|pdays|previous|poutcome|  y|quarter|age_group|\n",
            "+---+-----------+--------+---------+-------+-------+-------+----+---------+---+-----+--------+--------+-----+--------+--------+---+-------+---------+\n",
            "| 30| unemployed| married|  primary|     no|   1787|     no|  no| cellular| 19|  oct|      79|       1|   -1|       0| unknown| no|     Q4|    30-60|\n",
            "| 33|   services| married|secondary|     no|   4789|    yes| yes| cellular| 11|  may|     220|       1|  339|       4| failure| no|     Q2|    30-60|\n",
            "| 35| management|  single| tertiary|     no|   1350|    yes|  no| cellular| 16|  apr|     185|       1|  330|       1| failure| no|     Q2|    30-60|\n",
            "| 30| management| married| tertiary|     no|   1476|    yes| yes|  unknown|  3|  jun|     199|       4|   -1|       0| unknown| no|     Q2|    30-60|\n",
            "| 39|   services| married|secondary|     no|   9374|    yes|  no|  unknown| 20|  may|     273|       1|   -1|       0| unknown| no|     Q2|    30-60|\n",
            "| 36| technician| married| tertiary|     no|   1109|     no|  no| cellular| 13|  aug|     328|       2|   -1|       0| unknown| no|     Q3|    30-60|\n",
            "| 56| technician| married|secondary|     no|   4073|     no|  no| cellular| 27|  aug|     239|       5|   -1|       0| unknown| no|     Q3|    30-60|\n",
            "| 37|     admin.|  single| tertiary|     no|   2317|    yes|  no| cellular| 20|  apr|     114|       1|  152|       2| failure| no|     Q2|    30-60|\n",
            "| 41| management| married| tertiary|     no|   5883|     no|  no| cellular| 20|  nov|     182|       2|   -1|       0| unknown| no|     Q4|    30-60|\n",
            "| 68|    retired|divorced|secondary|     no|   4189|     no|  no|telephone| 14|  jul|     897|       2|   -1|       0| unknown|yes|     Q3|      >60|\n",
            "| 32| management|  single| tertiary|     no|   2536|    yes|  no| cellular| 26|  aug|     958|       6|   -1|       0| unknown|yes|     Q3|    30-60|\n",
            "| 49| technician| married| tertiary|     no|   1235|     no|  no| cellular| 13|  aug|     354|       3|   -1|       0| unknown|yes|     Q3|    30-60|\n",
            "| 42|     admin.|divorced|secondary|     no|   1811|    yes|  no|  unknown| 14|  may|     150|       1|   -1|       0| unknown| no|     Q2|    30-60|\n",
            "| 32|blue-collar| married|secondary|     no|   2089|    yes|  no| cellular| 14|  nov|     132|       1|   -1|       0| unknown|yes|     Q4|    30-60|\n",
            "| 33| management| married|secondary|     no|   3935|    yes|  no| cellular|  6|  may|     765|       1|  342|       2| failure|yes|     Q2|    30-60|\n",
            "| 38| management|  single| tertiary|     no|  11971|    yes|  no|  unknown| 17|  nov|     609|       2|  101|       3| failure| no|     Q4|    30-60|\n",
            "| 52|blue-collar| married|secondary|     no|   1117|    yes|  no| cellular| 13|  may|     365|       1|   -1|       0| unknown| no|     Q2|    30-60|\n",
            "| 32| technician|  single| tertiary|     no|   2204|    yes|  no| cellular| 21|  nov|      11|       4|   -1|       0| unknown| no|     Q4|    30-60|\n",
            "| 61|     admin.| married|  unknown|     no|   4629|    yes|  no| cellular| 27|  jan|     181|       1|   92|       1| success|yes|     Q1|      >60|\n",
            "| 34| technician| married| tertiary|     no|   1539|    yes|  no| cellular| 15|  jun|     441|       1|   56|       1|   other|yes|     Q2|    30-60|\n",
            "+---+-----------+--------+---------+-------+-------+-------+----+---------+---+-----+--------+--------+-----+--------+--------+---+-------+---------+\n",
            "only showing top 20 rows\n",
            "\n"
          ]
        }
      ],
      "source": [
        "# Apply the UDF to create a new column 'age_group'\n",
        "udf_df = bank_data.withColumn(\"age_group\", categorize_age_udf(df[\"age\"]))\n",
        "\n",
        "# Show the result\n",
        "udf_df.show()"
      ]
    },
    {
      "cell_type": "markdown",
      "metadata": {
        "id": "oax_jch4abI4"
      },
      "source": [
        "**Advanced Data Transformations:**"
      ]
    },
    {
      "cell_type": "code",
      "execution_count": null,
      "metadata": {
        "id": "SdU7XrQ4X-vG"
      },
      "outputs": [],
      "source": [
        "from pyspark.sql.functions import col, count, expr"
      ]
    },
    {
      "cell_type": "code",
      "execution_count": null,
      "metadata": {
        "colab": {
          "base_uri": "https://localhost:8080/"
        },
        "id": "MWaMFDwiX-qG",
        "outputId": "7878bfef-d805-405a-cc6c-6fdde9550bd6"
      },
      "outputs": [
        {
          "name": "stdout",
          "output_type": "stream",
          "text": [
            "+---------+------------------+\n",
            "|education| subscription_rate|\n",
            "+---------+------------------+\n",
            "|  unknown|17.647058823529413|\n",
            "| tertiary|17.898832684824903|\n",
            "|secondary| 13.39155749636099|\n",
            "|  primary| 11.79245283018868|\n",
            "+---------+------------------+\n",
            "\n"
          ]
        }
      ],
      "source": [
        "# Calculate the subscription rate (percentage of clients who subscribed to a term deposit) for each education level\n",
        "subscription_rate_df = bank_data.groupBy(\"education\").agg(\n",
        "    (count(when(col(\"y\") == \"yes\", True)) / count(\"*\") * 100).alias(\"subscription_rate\")\n",
        ")\n",
        "\n",
        "# Show the subscription rate by education level\n",
        "subscription_rate_df.show()"
      ]
    },
    {
      "cell_type": "code",
      "execution_count": null,
      "metadata": {
        "colab": {
          "base_uri": "https://localhost:8080/"
        },
        "id": "u9B4vEVUX-nY",
        "outputId": "84954649-3d3d-4f69-db1f-34f5d76ad2ac"
      },
      "outputs": [
        {
          "name": "stdout",
          "output_type": "stream",
          "text": [
            "+-------------+------------------+\n",
            "|          job|      default_rate|\n",
            "+-------------+------------------+\n",
            "|   management|  9.45945945945946|\n",
            "|      retired| 12.76595744680851|\n",
            "|      unknown|               0.0|\n",
            "|self-employed|12.903225806451612|\n",
            "|      student| 3.225806451612903|\n",
            "|  blue-collar|11.870503597122301|\n",
            "| entrepreneur|28.846153846153843|\n",
            "|       admin.|10.526315789473683|\n",
            "|   technician| 9.205020920502092|\n",
            "|     services|11.206896551724139|\n",
            "|    housemaid|6.0606060606060606|\n",
            "|   unemployed|7.6923076923076925|\n",
            "+-------------+------------------+\n",
            "\n"
          ]
        }
      ],
      "source": [
        "# Calculate loan default rate (percentage of clients who defaulted on a loan) for each job\n",
        "loan_default_rate_df = bank_data.groupBy(\"job\").agg(\n",
        "    (count(when(col(\"loan\") == \"yes\", True)) / count(\"*\") * 100).alias(\"default_rate\")\n",
        ")\n",
        "\n",
        "# Show the loan default rate by education level\n",
        "loan_default_rate_df.show()"
      ]
    },
    {
      "cell_type": "markdown",
      "metadata": {
        "id": "m6j7gnqla1mC"
      },
      "source": [
        "Identify the top 3 professions that have the highest loan default rate"
      ]
    },
    {
      "cell_type": "code",
      "execution_count": null,
      "metadata": {
        "colab": {
          "base_uri": "https://localhost:8080/"
        },
        "id": "L7wZYUH5ahc6",
        "outputId": "cb7f1fb8-9574-418c-8fcd-1c317337b44a"
      },
      "outputs": [
        {
          "name": "stdout",
          "output_type": "stream",
          "text": [
            "+-------------+------------------+\n",
            "|          job|      default_rate|\n",
            "+-------------+------------------+\n",
            "| entrepreneur|28.846153846153843|\n",
            "|self-employed|12.903225806451612|\n",
            "|      retired| 12.76595744680851|\n",
            "+-------------+------------------+\n",
            "\n"
          ]
        }
      ],
      "source": [
        "# Identify the top 3 professions with the highest loan default rate\n",
        "top_3_default_jobs = loan_default_rate_df.orderBy(col(\"default_rate\").desc()).limit(3)\n",
        "\n",
        "# Show the top 3 professions with the highest loan default rate\n",
        "top_3_default_jobs.show()"
      ]
    },
    {
      "cell_type": "markdown",
      "metadata": {
        "id": "HZXHmgYBbJlT"
      },
      "source": [
        "**String Manipulation and Date Functions:**"
      ]
    },
    {
      "cell_type": "markdown",
      "metadata": {
        "id": "p_fAtl32bNo3"
      },
      "source": [
        "Concatenate the 'job' and 'marital' columns into a new column 'job_marital'.\n",
        "\n",
        "Use string functions to convert the 'contact' column to uppercase."
      ]
    },
    {
      "cell_type": "code",
      "execution_count": null,
      "metadata": {
        "id": "GvZ-WWEDahZc"
      },
      "outputs": [],
      "source": [
        "from pyspark.sql.functions import concat, col, lit, upper"
      ]
    },
    {
      "cell_type": "code",
      "execution_count": null,
      "metadata": {
        "colab": {
          "base_uri": "https://localhost:8080/"
        },
        "id": "tvUA5_N9ahWR",
        "outputId": "ca68d4c1-f304-4f80-9189-86d491a16857"
      },
      "outputs": [
        {
          "name": "stdout",
          "output_type": "stream",
          "text": [
            "+---+-----------+--------+---------+-------+-------+-------+----+---------+---+-----+--------+--------+-----+--------+--------+---+-------+-------------------+\n",
            "|age|        job| marital|education|default|balance|housing|loan|  contact|day|month|duration|campaign|pdays|previous|poutcome|  y|quarter|        job_marital|\n",
            "+---+-----------+--------+---------+-------+-------+-------+----+---------+---+-----+--------+--------+-----+--------+--------+---+-------+-------------------+\n",
            "| 30| unemployed| married|  primary|     no|   1787|     no|  no| CELLULAR| 19|  oct|      79|       1|   -1|       0| unknown| no|     Q4| unemployed_married|\n",
            "| 33|   services| married|secondary|     no|   4789|    yes| yes| CELLULAR| 11|  may|     220|       1|  339|       4| failure| no|     Q2|   services_married|\n",
            "| 35| management|  single| tertiary|     no|   1350|    yes|  no| CELLULAR| 16|  apr|     185|       1|  330|       1| failure| no|     Q2|  management_single|\n",
            "| 30| management| married| tertiary|     no|   1476|    yes| yes|  UNKNOWN|  3|  jun|     199|       4|   -1|       0| unknown| no|     Q2| management_married|\n",
            "| 39|   services| married|secondary|     no|   9374|    yes|  no|  UNKNOWN| 20|  may|     273|       1|   -1|       0| unknown| no|     Q2|   services_married|\n",
            "| 36| technician| married| tertiary|     no|   1109|     no|  no| CELLULAR| 13|  aug|     328|       2|   -1|       0| unknown| no|     Q3| technician_married|\n",
            "| 56| technician| married|secondary|     no|   4073|     no|  no| CELLULAR| 27|  aug|     239|       5|   -1|       0| unknown| no|     Q3| technician_married|\n",
            "| 37|     admin.|  single| tertiary|     no|   2317|    yes|  no| CELLULAR| 20|  apr|     114|       1|  152|       2| failure| no|     Q2|      admin._single|\n",
            "| 41| management| married| tertiary|     no|   5883|     no|  no| CELLULAR| 20|  nov|     182|       2|   -1|       0| unknown| no|     Q4| management_married|\n",
            "| 68|    retired|divorced|secondary|     no|   4189|     no|  no|TELEPHONE| 14|  jul|     897|       2|   -1|       0| unknown|yes|     Q3|   retired_divorced|\n",
            "| 32| management|  single| tertiary|     no|   2536|    yes|  no| CELLULAR| 26|  aug|     958|       6|   -1|       0| unknown|yes|     Q3|  management_single|\n",
            "| 49| technician| married| tertiary|     no|   1235|     no|  no| CELLULAR| 13|  aug|     354|       3|   -1|       0| unknown|yes|     Q3| technician_married|\n",
            "| 42|     admin.|divorced|secondary|     no|   1811|    yes|  no|  UNKNOWN| 14|  may|     150|       1|   -1|       0| unknown| no|     Q2|    admin._divorced|\n",
            "| 32|blue-collar| married|secondary|     no|   2089|    yes|  no| CELLULAR| 14|  nov|     132|       1|   -1|       0| unknown|yes|     Q4|blue-collar_married|\n",
            "| 33| management| married|secondary|     no|   3935|    yes|  no| CELLULAR|  6|  may|     765|       1|  342|       2| failure|yes|     Q2| management_married|\n",
            "| 38| management|  single| tertiary|     no|  11971|    yes|  no|  UNKNOWN| 17|  nov|     609|       2|  101|       3| failure| no|     Q4|  management_single|\n",
            "| 52|blue-collar| married|secondary|     no|   1117|    yes|  no| CELLULAR| 13|  may|     365|       1|   -1|       0| unknown| no|     Q2|blue-collar_married|\n",
            "| 32| technician|  single| tertiary|     no|   2204|    yes|  no| CELLULAR| 21|  nov|      11|       4|   -1|       0| unknown| no|     Q4|  technician_single|\n",
            "| 61|     admin.| married|  unknown|     no|   4629|    yes|  no| CELLULAR| 27|  jan|     181|       1|   92|       1| success|yes|     Q1|     admin._married|\n",
            "| 34| technician| married| tertiary|     no|   1539|    yes|  no| CELLULAR| 15|  jun|     441|       1|   56|       1|   other|yes|     Q2| technician_married|\n",
            "+---+-----------+--------+---------+-------+-------+-------+----+---------+---+-----+--------+--------+-----+--------+--------+---+-------+-------------------+\n",
            "only showing top 20 rows\n",
            "\n"
          ]
        }
      ],
      "source": [
        "# Concatenate 'job' and 'marital' columns into a new column 'job_marital'\n",
        "df = bank_data.withColumn(\"job_marital\", concat(col(\"job\"), lit(\"_\"), col(\"marital\")))\n",
        "\n",
        "# Convert the 'contact' column to uppercase\n",
        "df = df.withColumn(\"contact\", upper(col(\"contact\")))\n",
        "\n",
        "# Show the result\n",
        "df.show()"
      ]
    },
    {
      "cell_type": "markdown",
      "metadata": {
        "id": "E69YmPFVbbKW"
      },
      "source": [
        "# **Data Visualization**"
      ]
    },
    {
      "cell_type": "markdown",
      "metadata": {
        "id": "j9EvecwUbg_9"
      },
      "source": [
        "Convert the Spark DataFrame to a Pandas DataFrame"
      ]
    },
    {
      "cell_type": "code",
      "execution_count": null,
      "metadata": {
        "id": "5nDN7bzPahSv"
      },
      "outputs": [],
      "source": [
        "import matplotlib.pyplot as plt\n",
        "import pandas as pd\n",
        "from pyspark.sql.functions import col"
      ]
    },
    {
      "cell_type": "code",
      "execution_count": null,
      "metadata": {
        "id": "yvtFwZG8blLa"
      },
      "outputs": [],
      "source": [
        "# Convert Spark DataFrame to Pandas DataFrame\n",
        "pandas_bank_df = bank_data.toPandas()"
      ]
    },
    {
      "cell_type": "markdown",
      "metadata": {
        "id": "3UAbu15MbsTl"
      },
      "source": [
        "Create a bar plot showing the count of clients by job type."
      ]
    },
    {
      "cell_type": "code",
      "execution_count": null,
      "metadata": {
        "colab": {
          "base_uri": "https://localhost:8080/",
          "height": 629
        },
        "id": "fIzT4JvwblFL",
        "outputId": "67c7981d-b190-4cc1-c199-64251e2bd2b7"
      },
      "outputs": [
        {
          "data": {
            "image/png": "[encoded data removed]",
            "text/plain": [
              "<Figure size 1000x600 with 1 Axes>"
            ]
          },
          "metadata": {},
          "output_type": "display_data"
        }
      ],
      "source": [
        "# Create a bar plot showing the count of clients by job type\n",
        "job_counts = pandas_bank_df['job'].value_counts()\n",
        "\n",
        "# Plot the bar chart\n",
        "plt.figure(figsize=(10, 6))\n",
        "job_counts.plot(kind='bar', color='skyblue')\n",
        "plt.title('Count of Clients by Job Type')\n",
        "plt.xlabel('Job Type')\n",
        "plt.ylabel('Count of Clients')\n",
        "plt.xticks(rotation=45)\n",
        "plt.grid(axis='y')\n",
        "\n",
        "# Show the plot\n",
        "plt.show()"
      ]
    },
    {
      "cell_type": "markdown",
      "metadata": {
        "id": "3yiiO-5Jb3X1"
      },
      "source": [
        "**Complex Queries for Insights**"
      ]
    },
    {
      "cell_type": "markdown",
      "metadata": {
        "id": "uFwVCgvfb6ik"
      },
      "source": [
        "Analyze which month of the year has the highest number of clients contacted, and determine the success rate of the campaign in that month"
      ]
    },
    {
      "cell_type": "code",
      "execution_count": null,
      "metadata": {
        "id": "RiW8S0MablBt"
      },
      "outputs": [],
      "source": [
        "# 1. Determine which month has the highest number of clients contacted\n",
        "month_contacted_counts = bank_data.groupBy(\"month\").agg(count(\"*\").alias(\"num_contacts\")).orderBy(col(\"num_contacts\").desc())\n",
        "month_with_max_contacts = month_contacted_counts.first()[\"month\"]"
      ]
    },
    {
      "cell_type": "code",
      "execution_count": null,
      "metadata": {
        "id": "mggggPQIbk7Y"
      },
      "outputs": [],
      "source": [
        "# 2. Calculate the success rate of the campaign in that month\n",
        "month_df = bank_data.filter(col(\"month\") == month_with_max_contacts)\n",
        "success_rate = month_df.groupBy(\"month\").agg(\n",
        "    (count(when(col(\"y\") == \"yes\", True)) / count(\"*\") * 100).alias(\"success_rate\")\n",
        ")"
      ]
    },
    {
      "cell_type": "code",
      "execution_count": null,
      "metadata": {
        "colab": {
          "base_uri": "https://localhost:8080/"
        },
        "id": "Gl7nnFm2bk31",
        "outputId": "0a04391c-95c6-468b-c4bf-9f4f093d78cf"
      },
      "outputs": [
        {
          "name": "stdout",
          "output_type": "stream",
          "text": [
            "+-----+------------+\n",
            "|month|num_contacts|\n",
            "+-----+------------+\n",
            "|  may|         384|\n",
            "|  jun|         224|\n",
            "|  nov|         207|\n",
            "|  aug|         195|\n",
            "|  jul|         154|\n",
            "|  apr|         118|\n",
            "|  feb|          76|\n",
            "|  jan|          36|\n",
            "|  oct|          33|\n",
            "|  mar|          24|\n",
            "|  sep|          18|\n",
            "|  dec|          12|\n",
            "+-----+------------+\n",
            "\n",
            "+-----+------------+\n",
            "|month|success_rate|\n",
            "+-----+------------+\n",
            "|  may|     8.59375|\n",
            "+-----+------------+\n",
            "\n"
          ]
        }
      ],
      "source": [
        "# Show the month with the highest number of contacts and its success rate\n",
        "month_contacted_counts.show()\n",
        "success_rate.show()"
      ]
    },
    {
      "cell_type": "markdown",
      "metadata": {
        "id": "2ju2xJFgcR_8"
      },
      "source": [
        "Find the average duration of contact for clients who subscribed versus those who did not"
      ]
    },
    {
      "cell_type": "code",
      "execution_count": null,
      "metadata": {
        "colab": {
          "base_uri": "https://localhost:8080/"
        },
        "id": "mdanWmyTahPM",
        "outputId": "84e0e758-ca4f-4d36-9982-fdf961ae331c"
      },
      "outputs": [
        {
          "name": "stdout",
          "output_type": "stream",
          "text": [
            "+---+-----------------+\n",
            "|  y| average_duration|\n",
            "+---+-----------------+\n",
            "| no|232.7579365079365|\n",
            "|yes|484.3393665158371|\n",
            "+---+-----------------+\n",
            "\n"
          ]
        }
      ],
      "source": [
        "# 3. Find the average duration of contact for clients who subscribed versus those who did not\n",
        "average_duration_df = bank_data.groupBy(\"y\").agg(\n",
        "    avg(\"duration\").alias(\"average_duration\")\n",
        ")\n",
        "\n",
        "# Show the average duration for subscribed and not subscribed clients\n",
        "average_duration_df.show()"
      ]
    },
    {
      "cell_type": "markdown",
      "metadata": {
        "id": "efEFlQKqcgrq"
      },
      "source": [
        "**Correlation Between Age and Balance**"
      ]
    },
    {
      "cell_type": "markdown",
      "metadata": {
        "id": "FOaAA71Ackgi"
      },
      "source": [
        "Calculate the correlation coefficient between 'age' and 'balance' to see if there’s any linear relationship between these two variables."
      ]
    },
    {
      "cell_type": "code",
      "execution_count": null,
      "metadata": {
        "colab": {
          "base_uri": "https://localhost:8080/"
        },
        "id": "XiILhLbFahLo",
        "outputId": "bbdd80b2-091a-4a9a-cdb3-12494c1465b7"
      },
      "outputs": [
        {
          "name": "stdout",
          "output_type": "stream",
          "text": [
            "The correlation coefficient between 'age' and 'balance' is: 0.07437391587538528\n"
          ]
        }
      ],
      "source": [
        "# Calculate the correlation coefficient between 'age' and 'balance'\n",
        "correlation = bank_data.stat.corr(\"age\", \"balance\")\n",
        "\n",
        "# Show the result\n",
        "print(f\"The correlation coefficient between 'age' and 'balance' is: {correlation}\")"
      ]
    },
    {
      "cell_type": "markdown",
      "metadata": {
        "id": "Syt70gBJctaR"
      },
      "source": [
        "**Exploring Loan Defaults:**"
      ]
    },
    {
      "cell_type": "markdown",
      "metadata": {
        "id": "FpXV4n-Ncw6y"
      },
      "source": [
        "Analyze the proportion of clients with and without a credit default and visualize the count of defaulters and non-defaulters."
      ]
    },
    {
      "cell_type": "code",
      "execution_count": null,
      "metadata": {
        "colab": {
          "base_uri": "https://localhost:8080/",
          "height": 487
        },
        "id": "6Eu54W-dcdwG",
        "outputId": "fe846ec7-bcdb-4166-9aa7-72116333ee21"
      },
      "outputs": [
        {
          "data": {
            "image/png": "[encoded data removed]",
            "text/plain": [
              "<Figure size 800x500 with 1 Axes>"
            ]
          },
          "metadata": {},
          "output_type": "display_data"
        }
      ],
      "source": [
        "# Calculate the proportion of clients with and without a credit default\n",
        "default_proportion_df = bank_data.groupBy(\"loan\").agg(\n",
        "    count(\"*\").alias(\"count\")\n",
        ")\n",
        "\n",
        "# Convert Spark DataFrame to Pandas DataFrame for visualization\n",
        "default_proportion_pdf = default_proportion_df.toPandas()\n",
        "\n",
        "# Visualize the count of defaulters and non-defaulters\n",
        "plt.figure(figsize=(8, 5))\n",
        "plt.bar(default_proportion_pdf[\"loan\"], default_proportion_pdf[\"count\"], color=['skyblue', 'salmon'])\n",
        "plt.title('Count of Defaulters and Non-Defaulters')\n",
        "plt.xlabel('Credit Default')\n",
        "plt.ylabel('Count')\n",
        "plt.xticks(rotation=0)\n",
        "plt.grid(axis='y')"
      ]
    },
    {
      "cell_type": "markdown",
      "metadata": {
        "id": "B0u0q2jzc9zN"
      },
      "source": [
        "**Contact Method Analysis:**"
      ]
    },
    {
      "cell_type": "markdown",
      "metadata": {
        "id": "ByKcwte5dA9J"
      },
      "source": [
        "Investigate which contact method ('cellular', 'telephone', etc.) has the highest success rate for term deposit subscriptions."
      ]
    },
    {
      "cell_type": "code",
      "execution_count": null,
      "metadata": {
        "colab": {
          "base_uri": "https://localhost:8080/"
        },
        "id": "WdaQc-O9cdtM",
        "outputId": "55d3131a-f778-4303-b425-44841e196760"
      },
      "outputs": [
        {
          "name": "stdout",
          "output_type": "stream",
          "text": [
            "The contact method with the highest success rate for term deposit subscriptions is: CELLULAR\n",
            "Success rate: 100.0%\n"
          ]
        }
      ],
      "source": [
        "# Filter data for term deposit subscriptions and non-unknown contact methods\n",
        "term_deposit_df = df.filter((col(\"y\") == \"yes\") & (col(\"contact\") != \"unknown\"))\n",
        "\n",
        "# Calculate success rate for each contact method\n",
        "success_rate_df = term_deposit_df.groupBy(\"contact\").agg(\n",
        "    (count(when(col(\"y\") == \"yes\", True)) / count(\"*\") * 100).alias(\"success_rate\")\n",
        ")\n",
        "\n",
        "# Identify contact method with the highest success rate\n",
        "highest_success_rate = success_rate_df.orderBy(col(\"success_rate\").desc()).first()\n",
        "\n",
        "# Show the result\n",
        "print(f\"The contact method with the highest success rate for term deposit subscriptions is: {highest_success_rate['contact']}\")\n",
        "print(f\"Success rate: {highest_success_rate['success_rate']}%\")\n"
      ]
    },
    {
      "cell_type": "markdown",
      "metadata": {
        "id": "6Vyv0yQxdImJ"
      },
      "source": [
        "**Data Processing with Spark SQL:**"
      ]
    },
    {
      "cell_type": "markdown",
      "metadata": {
        "id": "0Q-BafHcdMDR"
      },
      "source": [
        "Calculate the average account balance for different age groups or the most common job types. (Use CREATE TEMPORARY VIEW in Spark SQL to query data using SQL syntax.)"
      ]
    },
    {
      "cell_type": "code",
      "execution_count": null,
      "metadata": {
        "colab": {
          "base_uri": "https://localhost:8080/"
        },
        "id": "3w9hodUAcdnM",
        "outputId": "90401de7-8a32-4414-a2e6-c0fd4ae20b36"
      },
      "outputs": [
        {
          "name": "stdout",
          "output_type": "stream",
          "text": [
            "+---------+-----------------+\n",
            "|age_group|      avg_balance|\n",
            "+---------+-----------------+\n",
            "|    30-60|3853.557440246723|\n",
            "|  Over 60|4993.548387096775|\n",
            "| Under 30|3488.909836065574|\n",
            "+---------+-----------------+\n",
            "\n",
            "+-----------+-----+\n",
            "|        job|count|\n",
            "+-----------+-----+\n",
            "| management|  370|\n",
            "|blue-collar|  278|\n",
            "| technician|  239|\n",
            "|     admin.|  152|\n",
            "|   services|  116|\n",
            "+-----------+-----+\n",
            "\n"
          ]
        }
      ],
      "source": [
        "# Create a temporary view\n",
        "bank_data.createOrReplaceTempView(\"bank\")\n",
        "\n",
        "# Calculate the average account balance for different age groups\n",
        "age_balance_avg = spark.sql(\"\"\"\n",
        "    SELECT\n",
        "        CASE\n",
        "            WHEN age < 30 THEN 'Under 30'\n",
        "            WHEN age BETWEEN 30 AND 60 THEN '30-60'\n",
        "            ELSE 'Over 60'\n",
        "        END AS age_group,\n",
        "        AVG(balance) AS avg_balance\n",
        "    FROM\n",
        "        bank\n",
        "    GROUP BY\n",
        "        age_group\n",
        "    ORDER BY\n",
        "        age_group\n",
        "\"\"\")\n",
        "\n",
        "age_balance_avg.show()\n",
        "\n",
        "# Calculate the most common job types\n",
        "common_jobs = spark.sql(\"\"\"\n",
        "    SELECT\n",
        "        job,\n",
        "        COUNT(*) AS count\n",
        "    FROM\n",
        "        bank\n",
        "    GROUP BY\n",
        "        job\n",
        "    ORDER BY\n",
        "        count DESC\n",
        "    LIMIT 5\n",
        "\"\"\")\n",
        "\n",
        "common_jobs.show()"
      ]
    },
    {
      "cell_type": "markdown",
      "metadata": {
        "id": "J4VNqtVnluWs"
      },
      "source": [
        "# **4) Real-Time Transaction Analysis with Spark Streaming**"
      ]
    },
    {
      "cell_type": "markdown",
      "metadata": {
        "id": "VzT-7C4Ml1_n"
      },
      "source": [
        "**Data Loading:**"
      ]
    },
    {
      "cell_type": "markdown",
      "metadata": {
        "id": "v1COzDEjl6IU"
      },
      "source": [
        "Loading data is the first step in any data analysis process. PySpark supports various data sources such as CSV files, Parquet files, and databases. Here's an example of loading data from a CSV file:"
      ]
    },
    {
      "cell_type": "code",
      "execution_count": null,
      "metadata": {
        "colab": {
          "base_uri": "https://localhost:8080/",
          "height": 226
        },
        "id": "c9sjarYVcdc7",
        "outputId": "f4efb09d-1d8a-41e7-d985-bac672b94f39"
      },
      "outputs": [
        {
          "data": {
            "application/vnd.google.colaboratory.intrinsic+json": {
              "summary": "{\n  \"name\": \"bank_df\",\n  \"rows\": 4521,\n  \"fields\": [\n    {\n      \"column\": \"age\",\n      \"properties\": {\n        \"dtype\": \"number\",\n        \"std\": 10,\n        \"min\": 19,\n        \"max\": 87,\n        \"num_unique_values\": 67,\n        \"samples\": [\n          50,\n          44,\n          36\n        ],\n        \"semantic_type\": \"\",\n        \"description\": \"\"\n      }\n    },\n    {\n      \"column\": \"job\",\n      \"properties\": {\n        \"dtype\": \"category\",\n        \"num_unique_values\": 12,\n        \"samples\": [\n          \"retired\",\n          \"housemaid\",\n          \"unemployed\"\n        ],\n        \"semantic_type\": \"\",\n        \"description\": \"\"\n      }\n    },\n    {\n      \"column\": \"marital\",\n      \"properties\": {\n        \"dtype\": \"category\",\n        \"num_unique_values\": 3,\n        \"samples\": [\n          \"married\",\n          \"single\",\n          \"divorced\"\n        ],\n        \"semantic_type\": \"\",\n        \"description\": \"\"\n      }\n    },\n    {\n      \"column\": \"education\",\n      \"properties\": {\n        \"dtype\": \"category\",\n        \"num_unique_values\": 4,\n        \"samples\": [\n          \"secondary\",\n          \"unknown\",\n          \"primary\"\n        ],\n        \"semantic_type\": \"\",\n        \"description\": \"\"\n      }\n    },\n    {\n      \"column\": \"default\",\n      \"properties\": {\n        \"dtype\": \"category\",\n        \"num_unique_values\": 2,\n        \"samples\": [\n          \"yes\",\n          \"no\"\n        ],\n        \"semantic_type\": \"\",\n        \"description\": \"\"\n      }\n    },\n    {\n      \"column\": \"balance\",\n      \"properties\": {\n        \"dtype\": \"number\",\n        \"std\": 3009,\n        \"min\": -3313,\n        \"max\": 71188,\n        \"num_unique_values\": 2353,\n        \"samples\": [\n          1988,\n          7010\n        ],\n        \"semantic_type\": \"\",\n        \"description\": \"\"\n      }\n    },\n    {\n      \"column\": \"housing\",\n      \"properties\": {\n        \"dtype\": \"category\",\n        \"num_unique_values\": 2,\n        \"samples\": [\n          \"yes\",\n          \"no\"\n        ],\n        \"semantic_type\": \"\",\n        \"description\": \"\"\n      }\n    },\n    {\n      \"column\": \"loan\",\n      \"properties\": {\n        \"dtype\": \"category\",\n        \"num_unique_values\": 2,\n        \"samples\": [\n          \"yes\",\n          \"no\"\n        ],\n        \"semantic_type\": \"\",\n        \"description\": \"\"\n      }\n    },\n    {\n      \"column\": \"contact\",\n      \"properties\": {\n        \"dtype\": \"category\",\n        \"num_unique_values\": 3,\n        \"samples\": [\n          \"cellular\",\n          \"unknown\"\n        ],\n        \"semantic_type\": \"\",\n        \"description\": \"\"\n      }\n    },\n    {\n      \"column\": \"day\",\n      \"properties\": {\n        \"dtype\": \"number\",\n        \"std\": 8,\n        \"min\": 1,\n        \"max\": 31,\n        \"num_unique_values\": 31,\n        \"samples\": [\n          10,\n          18\n        ],\n        \"semantic_type\": \"\",\n        \"description\": \"\"\n      }\n    },\n    {\n      \"column\": \"month\",\n      \"properties\": {\n        \"dtype\": \"category\",\n        \"num_unique_values\": 12,\n        \"samples\": [\n          \"mar\",\n          \"sep\"\n        ],\n        \"semantic_type\": \"\",\n        \"description\": \"\"\n      }\n    },\n    {\n      \"column\": \"duration\",\n      \"properties\": {\n        \"dtype\": \"number\",\n        \"std\": 259,\n        \"min\": 4,\n        \"max\": 3025,\n        \"num_unique_values\": 875,\n        \"samples\": [\n          1516,\n          722\n        ],\n        \"semantic_type\": \"\",\n        \"description\": \"\"\n      }\n    },\n    {\n      \"column\": \"campaign\",\n      \"properties\": {\n        \"dtype\": \"number\",\n        \"std\": 3,\n        \"min\": 1,\n        \"max\": 50,\n        \"num_unique_values\": 32,\n        \"samples\": [\n          28,\n          8\n        ],\n        \"semantic_type\": \"\",\n        \"description\": \"\"\n      }\n    },\n    {\n      \"column\": \"pdays\",\n      \"properties\": {\n        \"dtype\": \"number\",\n        \"std\": 100,\n        \"min\": -1,\n        \"max\": 871,\n        \"num_unique_values\": 292,\n        \"samples\": [\n          63,\n          385\n        ],\n        \"semantic_type\": \"\",\n        \"description\": \"\"\n      }\n    },\n    {\n      \"column\": \"previous\",\n      \"properties\": {\n        \"dtype\": \"number\",\n        \"std\": 1,\n        \"min\": 0,\n        \"max\": 25,\n        \"num_unique_values\": 24,\n        \"samples\": [\n          6,\n          11\n        ],\n        \"semantic_type\": \"\",\n        \"description\": \"\"\n      }\n    },\n    {\n      \"column\": \"poutcome\",\n      \"properties\": {\n        \"dtype\": \"category\",\n        \"num_unique_values\": 4,\n        \"samples\": [\n          \"failure\",\n          \"success\"\n        ],\n        \"semantic_type\": \"\",\n        \"description\": \"\"\n      }\n    },\n    {\n      \"column\": \"y\",\n      \"properties\": {\n        \"dtype\": \"category\",\n        \"num_unique_values\": 2,\n        \"samples\": [\n          \"yes\",\n          \"no\"\n        ],\n        \"semantic_type\": \"\",\n        \"description\": \"\"\n      }\n    }\n  ]\n}",
              "type": "dataframe",
              "variable_name": "bank_df"
            },
            "text/html": [
              "\n",
              "  <div id=\"df-8f157530-5a50-42d0-9cf6-248f8462aa29\" class=\"colab-df-container\">\n",
              "    <div>\n",
              "<style scoped>\n",
              "    .dataframe tbody tr th:only-of-type {\n",
              "        vertical-align: middle;\n",
              "    }\n",
              "\n",
              "    .dataframe tbody tr th {\n",
              "        vertical-align: top;\n",
              "    }\n",
              "\n",
              "    .dataframe thead th {\n",
              "        text-align: right;\n",
              "    }\n",
              "</style>\n",
              "<table border=\"1\" class=\"dataframe\">\n",
              "  <thead>\n",
              "    <tr style=\"text-align: right;\">\n",
              "      <th></th>\n",
              "      <th>age</th>\n",
              "      <th>job</th>\n",
              "      <th>marital</th>\n",
              "      <th>education</th>\n",
              "      <th>default</th>\n",
              "      <th>balance</th>\n",
              "      <th>housing</th>\n",
              "      <th>loan</th>\n",
              "      <th>contact</th>\n",
              "      <th>day</th>\n",
              "      <th>month</th>\n",
              "      <th>duration</th>\n",
              "      <th>campaign</th>\n",
              "      <th>pdays</th>\n",
              "      <th>previous</th>\n",
              "      <th>poutcome</th>\n",
              "      <th>y</th>\n",
              "    </tr>\n",
              "  </thead>\n",
              "  <tbody>\n",
              "    <tr>\n",
              "      <th>0</th>\n",
              "      <td>30</td>\n",
              "      <td>unemployed</td>\n",
              "      <td>married</td>\n",
              "      <td>primary</td>\n",
              "      <td>no</td>\n",
              "      <td>1787</td>\n",
              "      <td>no</td>\n",
              "      <td>no</td>\n",
              "      <td>cellular</td>\n",
              "      <td>19</td>\n",
              "      <td>oct</td>\n",
              "      <td>79</td>\n",
              "      <td>1</td>\n",
              "      <td>-1</td>\n",
              "      <td>0</td>\n",
              "      <td>unknown</td>\n",
              "      <td>no</td>\n",
              "    </tr>\n",
              "    <tr>\n",
              "      <th>1</th>\n",
              "      <td>33</td>\n",
              "      <td>services</td>\n",
              "      <td>married</td>\n",
              "      <td>secondary</td>\n",
              "      <td>no</td>\n",
              "      <td>4789</td>\n",
              "      <td>yes</td>\n",
              "      <td>yes</td>\n",
              "      <td>cellular</td>\n",
              "      <td>11</td>\n",
              "      <td>may</td>\n",
              "      <td>220</td>\n",
              "      <td>1</td>\n",
              "      <td>339</td>\n",
              "      <td>4</td>\n",
              "      <td>failure</td>\n",
              "      <td>no</td>\n",
              "    </tr>\n",
              "    <tr>\n",
              "      <th>2</th>\n",
              "      <td>35</td>\n",
              "      <td>management</td>\n",
              "      <td>single</td>\n",
              "      <td>tertiary</td>\n",
              "      <td>no</td>\n",
              "      <td>1350</td>\n",
              "      <td>yes</td>\n",
              "      <td>no</td>\n",
              "      <td>cellular</td>\n",
              "      <td>16</td>\n",
              "      <td>apr</td>\n",
              "      <td>185</td>\n",
              "      <td>1</td>\n",
              "      <td>330</td>\n",
              "      <td>1</td>\n",
              "      <td>failure</td>\n",
              "      <td>no</td>\n",
              "    </tr>\n",
              "    <tr>\n",
              "      <th>3</th>\n",
              "      <td>30</td>\n",
              "      <td>management</td>\n",
              "      <td>married</td>\n",
              "      <td>tertiary</td>\n",
              "      <td>no</td>\n",
              "      <td>1476</td>\n",
              "      <td>yes</td>\n",
              "      <td>yes</td>\n",
              "      <td>unknown</td>\n",
              "      <td>3</td>\n",
              "      <td>jun</td>\n",
              "      <td>199</td>\n",
              "      <td>4</td>\n",
              "      <td>-1</td>\n",
              "      <td>0</td>\n",
              "      <td>unknown</td>\n",
              "      <td>no</td>\n",
              "    </tr>\n",
              "    <tr>\n",
              "      <th>4</th>\n",
              "      <td>59</td>\n",
              "      <td>blue-collar</td>\n",
              "      <td>married</td>\n",
              "      <td>secondary</td>\n",
              "      <td>no</td>\n",
              "      <td>0</td>\n",
              "      <td>yes</td>\n",
              "      <td>no</td>\n",
              "      <td>unknown</td>\n",
              "      <td>5</td>\n",
              "      <td>may</td>\n",
              "      <td>226</td>\n",
              "      <td>1</td>\n",
              "      <td>-1</td>\n",
              "      <td>0</td>\n",
              "      <td>unknown</td>\n",
              "      <td>no</td>\n",
              "    </tr>\n",
              "  </tbody>\n",
              "</table>\n",
              "</div>\n",
              "    <div class=\"colab-df-buttons\">\n",
              "\n",
              "  <div class=\"colab-df-container\">\n",
              "    <button class=\"colab-df-convert\" onclick=\"convertToInteractive('df-8f157530-5a50-42d0-9cf6-248f8462aa29')\"\n",
              "            title=\"Convert this dataframe to an interactive table.\"\n",
              "            style=\"display:none;\">\n",
              "\n",
              "  <svg xmlns=\"http://www.w3.org/2000/svg\" height=\"24px\" viewBox=\"0 -960 960 960\">\n",
              "    <path d=\"M120-120v-720h720v720H120Zm60-500h600v-160H180v160Zm220 220h160v-160H400v160Zm0 220h160v-160H400v160ZM180-400h160v-160H180v160Zm440 0h160v-160H620v160ZM180-180h160v-160H180v160Zm440 0h160v-160H620v160Z\"/>\n",
              "  </svg>\n",
              "    </button>\n",
              "\n",
              "  <style>\n",
              "    .colab-df-container {\n",
              "      display:flex;\n",
              "      gap: 12px;\n",
              "    }\n",
              "\n",
              "    .colab-df-convert {\n",
              "      background-color: #E8F0FE;\n",
              "      border: none;\n",
              "      border-radius: 50%;\n",
              "      cursor: pointer;\n",
              "      display: none;\n",
              "      fill: #1967D2;\n",
              "      height: 32px;\n",
              "      padding: 0 0 0 0;\n",
              "      width: 32px;\n",
              "    }\n",
              "\n",
              "    .colab-df-convert:hover {\n",
              "      background-color: #E2EBFA;\n",
              "      box-shadow: 0px 1px 2px rgba(60, 64, 67, 0.3), 0px 1px 3px 1px rgba(60, 64, 67, 0.15);\n",
              "      fill: #174EA6;\n",
              "    }\n",
              "\n",
              "    .colab-df-buttons div {\n",
              "      margin-bottom: 4px;\n",
              "    }\n",
              "\n",
              "    [theme=dark] .colab-df-convert {\n",
              "      background-color: #3B4455;\n",
              "      fill: #D2E3FC;\n",
              "    }\n",
              "\n",
              "    [theme=dark] .colab-df-convert:hover {\n",
              "      background-color: #434B5C;\n",
              "      box-shadow: 0px 1px 3px 1px rgba(0, 0, 0, 0.15);\n",
              "      filter: drop-shadow(0px 1px 2px rgba(0, 0, 0, 0.3));\n",
              "      fill: #FFFFFF;\n",
              "    }\n",
              "  </style>\n",
              "\n",
              "    <script>\n",
              "      const buttonEl =\n",
              "        document.querySelector('#df-8f157530-5a50-42d0-9cf6-248f8462aa29 button.colab-df-convert');\n",
              "      buttonEl.style.display =\n",
              "        google.colab.kernel.accessAllowed ? 'block' : 'none';\n",
              "\n",
              "      async function convertToInteractive(key) {\n",
              "        const element = document.querySelector('#df-8f157530-5a50-42d0-9cf6-248f8462aa29');\n",
              "        const dataTable =\n",
              "          await google.colab.kernel.invokeFunction('convertToInteractive',\n",
              "                                                    [key], {});\n",
              "        if (!dataTable) return;\n",
              "\n",
              "        const docLinkHtml = 'Like what you see? Visit the ' +\n",
              "          '<a target=\"_blank\" href=https://colab.research.google.com/notebooks/data_table.ipynb>data table notebook</a>'\n",
              "          + ' to learn more about interactive tables.';\n",
              "        element.innerHTML = '';\n",
              "        dataTable['output_type'] = 'display_data';\n",
              "        await google.colab.output.renderOutput(dataTable, element);\n",
              "        const docLink = document.createElement('div');\n",
              "        docLink.innerHTML = docLinkHtml;\n",
              "        element.appendChild(docLink);\n",
              "      }\n",
              "    </script>\n",
              "  </div>\n",
              "\n",
              "\n",
              "<div id=\"df-56f76e3a-5432-459c-aa7c-ad0349e51120\">\n",
              "  <button class=\"colab-df-quickchart\" onclick=\"quickchart('df-56f76e3a-5432-459c-aa7c-ad0349e51120')\"\n",
              "            title=\"Suggest charts\"\n",
              "            style=\"display:none;\">\n",
              "\n",
              "<svg xmlns=\"http://www.w3.org/2000/svg\" height=\"24px\"viewBox=\"0 0 24 24\"\n",
              "     width=\"24px\">\n",
              "    <g>\n",
              "        <path d=\"M19 3H5c-1.1 0-2 .9-2 2v14c0 1.1.9 2 2 2h14c1.1 0 2-.9 2-2V5c0-1.1-.9-2-2-2zM9 17H7v-7h2v7zm4 0h-2V7h2v10zm4 0h-2v-4h2v4z\"/>\n",
              "    </g>\n",
              "</svg>\n",
              "  </button>\n",
              "\n",
              "<style>\n",
              "  .colab-df-quickchart {\n",
              "      --bg-color: #E8F0FE;\n",
              "      --fill-color: #1967D2;\n",
              "      --hover-bg-color: #E2EBFA;\n",
              "      --hover-fill-color: #174EA6;\n",
              "      --disabled-fill-color: #AAA;\n",
              "      --disabled-bg-color: #DDD;\n",
              "  }\n",
              "\n",
              "  [theme=dark] .colab-df-quickchart {\n",
              "      --bg-color: #3B4455;\n",
              "      --fill-color: #D2E3FC;\n",
              "      --hover-bg-color: #434B5C;\n",
              "      --hover-fill-color: #FFFFFF;\n",
              "      --disabled-bg-color: #3B4455;\n",
              "      --disabled-fill-color: #666;\n",
              "  }\n",
              "\n",
              "  .colab-df-quickchart {\n",
              "    background-color: var(--bg-color);\n",
              "    border: none;\n",
              "    border-radius: 50%;\n",
              "    cursor: pointer;\n",
              "    display: none;\n",
              "    fill: var(--fill-color);\n",
              "    height: 32px;\n",
              "    padding: 0;\n",
              "    width: 32px;\n",
              "  }\n",
              "\n",
              "  .colab-df-quickchart:hover {\n",
              "    background-color: var(--hover-bg-color);\n",
              "    box-shadow: 0 1px 2px rgba(60, 64, 67, 0.3), 0 1px 3px 1px rgba(60, 64, 67, 0.15);\n",
              "    fill: var(--button-hover-fill-color);\n",
              "  }\n",
              "\n",
              "  .colab-df-quickchart-complete:disabled,\n",
              "  .colab-df-quickchart-complete:disabled:hover {\n",
              "    background-color: var(--disabled-bg-color);\n",
              "    fill: var(--disabled-fill-color);\n",
              "    box-shadow: none;\n",
              "  }\n",
              "\n",
              "  .colab-df-spinner {\n",
              "    border: 2px solid var(--fill-color);\n",
              "    border-color: transparent;\n",
              "    border-bottom-color: var(--fill-color);\n",
              "    animation:\n",
              "      spin 1s steps(1) infinite;\n",
              "  }\n",
              "\n",
              "  @keyframes spin {\n",
              "    0% {\n",
              "      border-color: transparent;\n",
              "      border-bottom-color: var(--fill-color);\n",
              "      border-left-color: var(--fill-color);\n",
              "    }\n",
              "    20% {\n",
              "      border-color: transparent;\n",
              "      border-left-color: var(--fill-color);\n",
              "      border-top-color: var(--fill-color);\n",
              "    }\n",
              "    30% {\n",
              "      border-color: transparent;\n",
              "      border-left-color: var(--fill-color);\n",
              "      border-top-color: var(--fill-color);\n",
              "      border-right-color: var(--fill-color);\n",
              "    }\n",
              "    40% {\n",
              "      border-color: transparent;\n",
              "      border-right-color: var(--fill-color);\n",
              "      border-top-color: var(--fill-color);\n",
              "    }\n",
              "    60% {\n",
              "      border-color: transparent;\n",
              "      border-right-color: var(--fill-color);\n",
              "    }\n",
              "    80% {\n",
              "      border-color: transparent;\n",
              "      border-right-color: var(--fill-color);\n",
              "      border-bottom-color: var(--fill-color);\n",
              "    }\n",
              "    90% {\n",
              "      border-color: transparent;\n",
              "      border-bottom-color: var(--fill-color);\n",
              "    }\n",
              "  }\n",
              "</style>\n",
              "\n",
              "  <script>\n",
              "    async function quickchart(key) {\n",
              "      const quickchartButtonEl =\n",
              "        document.querySelector('#' + key + ' button');\n",
              "      quickchartButtonEl.disabled = true;  // To prevent multiple clicks.\n",
              "      quickchartButtonEl.classList.add('colab-df-spinner');\n",
              "      try {\n",
              "        const charts = await google.colab.kernel.invokeFunction(\n",
              "            'suggestCharts', [key], {});\n",
              "      } catch (error) {\n",
              "        console.error('Error during call to suggestCharts:', error);\n",
              "      }\n",
              "      quickchartButtonEl.classList.remove('colab-df-spinner');\n",
              "      quickchartButtonEl.classList.add('colab-df-quickchart-complete');\n",
              "    }\n",
              "    (() => {\n",
              "      let quickchartButtonEl =\n",
              "        document.querySelector('#df-56f76e3a-5432-459c-aa7c-ad0349e51120 button');\n",
              "      quickchartButtonEl.style.display =\n",
              "        google.colab.kernel.accessAllowed ? 'block' : 'none';\n",
              "    })();\n",
              "  </script>\n",
              "</div>\n",
              "\n",
              "    </div>\n",
              "  </div>\n"
            ],
            "text/plain": [
              "   age          job  marital  education default  balance housing loan  \\\n",
              "0   30   unemployed  married    primary      no     1787      no   no   \n",
              "1   33     services  married  secondary      no     4789     yes  yes   \n",
              "2   35   management   single   tertiary      no     1350     yes   no   \n",
              "3   30   management  married   tertiary      no     1476     yes  yes   \n",
              "4   59  blue-collar  married  secondary      no        0     yes   no   \n",
              "\n",
              "    contact  day month  duration  campaign  pdays  previous poutcome   y  \n",
              "0  cellular   19   oct        79         1     -1         0  unknown  no  \n",
              "1  cellular   11   may       220         1    339         4  failure  no  \n",
              "2  cellular   16   apr       185         1    330         1  failure  no  \n",
              "3   unknown    3   jun       199         4     -1         0  unknown  no  \n",
              "4   unknown    5   may       226         1     -1         0  unknown  no  "
            ]
          },
          "execution_count": 28,
          "metadata": {},
          "output_type": "execute_result"
        }
      ],
      "source": [
        "bank_df = pd.read_csv(\"/content/bank.csv\")\n",
        "bank_df.head()"
      ]
    },
    {
      "cell_type": "code",
      "execution_count": null,
      "metadata": {
        "colab": {
          "base_uri": "https://localhost:8080/"
        },
        "id": "pOzKgmJjleBc",
        "outputId": "6cc80a44-000a-44a7-c9b2-03a7f5f718d7"
      },
      "outputs": [
        {
          "data": {
            "text/plain": [
              "(4521, 17)"
            ]
          },
          "execution_count": 29,
          "metadata": {},
          "output_type": "execute_result"
        }
      ],
      "source": [
        "bank_df.shape"
      ]
    },
    {
      "cell_type": "code",
      "execution_count": null,
      "metadata": {
        "colab": {
          "base_uri": "https://localhost:8080/",
          "height": 206
        },
        "id": "fBOkJ7Lfld6P",
        "outputId": "8b522ada-ba67-44f2-95a6-215e221cd5f0"
      },
      "outputs": [
        {
          "data": {
            "application/vnd.google.colaboratory.intrinsic+json": {
              "summary": "{\n  \"name\": \"df\",\n  \"rows\": 4521,\n  \"fields\": [\n    {\n      \"column\": \"age\",\n      \"properties\": {\n        \"dtype\": \"number\",\n        \"std\": 10,\n        \"min\": 19,\n        \"max\": 87,\n        \"num_unique_values\": 67,\n        \"samples\": [\n          50,\n          44,\n          36\n        ],\n        \"semantic_type\": \"\",\n        \"description\": \"\"\n      }\n    },\n    {\n      \"column\": \"job\",\n      \"properties\": {\n        \"dtype\": \"category\",\n        \"num_unique_values\": 12,\n        \"samples\": [\n          \"retired\",\n          \"housemaid\",\n          \"unemployed\"\n        ],\n        \"semantic_type\": \"\",\n        \"description\": \"\"\n      }\n    },\n    {\n      \"column\": \"balance\",\n      \"properties\": {\n        \"dtype\": \"number\",\n        \"std\": 3009,\n        \"min\": -3313,\n        \"max\": 71188,\n        \"num_unique_values\": 2353,\n        \"samples\": [\n          1988,\n          7010,\n          1562\n        ],\n        \"semantic_type\": \"\",\n        \"description\": \"\"\n      }\n    },\n    {\n      \"column\": \"duration\",\n      \"properties\": {\n        \"dtype\": \"number\",\n        \"std\": 259,\n        \"min\": 4,\n        \"max\": 3025,\n        \"num_unique_values\": 875,\n        \"samples\": [\n          1516,\n          722,\n          447\n        ],\n        \"semantic_type\": \"\",\n        \"description\": \"\"\n      }\n    },\n    {\n      \"column\": \"y\",\n      \"properties\": {\n        \"dtype\": \"category\",\n        \"num_unique_values\": 2,\n        \"samples\": [\n          \"yes\",\n          \"no\"\n        ],\n        \"semantic_type\": \"\",\n        \"description\": \"\"\n      }\n    }\n  ]\n}",
              "type": "dataframe",
              "variable_name": "df"
            },
            "text/html": [
              "\n",
              "  <div id=\"df-953c8d5e-d895-4810-9234-57d035a293ff\" class=\"colab-df-container\">\n",
              "    <div>\n",
              "<style scoped>\n",
              "    .dataframe tbody tr th:only-of-type {\n",
              "        vertical-align: middle;\n",
              "    }\n",
              "\n",
              "    .dataframe tbody tr th {\n",
              "        vertical-align: top;\n",
              "    }\n",
              "\n",
              "    .dataframe thead th {\n",
              "        text-align: right;\n",
              "    }\n",
              "</style>\n",
              "<table border=\"1\" class=\"dataframe\">\n",
              "  <thead>\n",
              "    <tr style=\"text-align: right;\">\n",
              "      <th></th>\n",
              "      <th>age</th>\n",
              "      <th>job</th>\n",
              "      <th>balance</th>\n",
              "      <th>duration</th>\n",
              "      <th>y</th>\n",
              "    </tr>\n",
              "  </thead>\n",
              "  <tbody>\n",
              "    <tr>\n",
              "      <th>0</th>\n",
              "      <td>30</td>\n",
              "      <td>unemployed</td>\n",
              "      <td>1787</td>\n",
              "      <td>79</td>\n",
              "      <td>no</td>\n",
              "    </tr>\n",
              "    <tr>\n",
              "      <th>1</th>\n",
              "      <td>33</td>\n",
              "      <td>services</td>\n",
              "      <td>4789</td>\n",
              "      <td>220</td>\n",
              "      <td>no</td>\n",
              "    </tr>\n",
              "    <tr>\n",
              "      <th>2</th>\n",
              "      <td>35</td>\n",
              "      <td>management</td>\n",
              "      <td>1350</td>\n",
              "      <td>185</td>\n",
              "      <td>no</td>\n",
              "    </tr>\n",
              "    <tr>\n",
              "      <th>3</th>\n",
              "      <td>30</td>\n",
              "      <td>management</td>\n",
              "      <td>1476</td>\n",
              "      <td>199</td>\n",
              "      <td>no</td>\n",
              "    </tr>\n",
              "    <tr>\n",
              "      <th>4</th>\n",
              "      <td>59</td>\n",
              "      <td>blue-collar</td>\n",
              "      <td>0</td>\n",
              "      <td>226</td>\n",
              "      <td>no</td>\n",
              "    </tr>\n",
              "  </tbody>\n",
              "</table>\n",
              "</div>\n",
              "    <div class=\"colab-df-buttons\">\n",
              "\n",
              "  <div class=\"colab-df-container\">\n",
              "    <button class=\"colab-df-convert\" onclick=\"convertToInteractive('df-953c8d5e-d895-4810-9234-57d035a293ff')\"\n",
              "            title=\"Convert this dataframe to an interactive table.\"\n",
              "            style=\"display:none;\">\n",
              "\n",
              "  <svg xmlns=\"http://www.w3.org/2000/svg\" height=\"24px\" viewBox=\"0 -960 960 960\">\n",
              "    <path d=\"M120-120v-720h720v720H120Zm60-500h600v-160H180v160Zm220 220h160v-160H400v160Zm0 220h160v-160H400v160ZM180-400h160v-160H180v160Zm440 0h160v-160H620v160ZM180-180h160v-160H180v160Zm440 0h160v-160H620v160Z\"/>\n",
              "  </svg>\n",
              "    </button>\n",
              "\n",
              "  <style>\n",
              "    .colab-df-container {\n",
              "      display:flex;\n",
              "      gap: 12px;\n",
              "    }\n",
              "\n",
              "    .colab-df-convert {\n",
              "      background-color: #E8F0FE;\n",
              "      border: none;\n",
              "      border-radius: 50%;\n",
              "      cursor: pointer;\n",
              "      display: none;\n",
              "      fill: #1967D2;\n",
              "      height: 32px;\n",
              "      padding: 0 0 0 0;\n",
              "      width: 32px;\n",
              "    }\n",
              "\n",
              "    .colab-df-convert:hover {\n",
              "      background-color: #E2EBFA;\n",
              "      box-shadow: 0px 1px 2px rgba(60, 64, 67, 0.3), 0px 1px 3px 1px rgba(60, 64, 67, 0.15);\n",
              "      fill: #174EA6;\n",
              "    }\n",
              "\n",
              "    .colab-df-buttons div {\n",
              "      margin-bottom: 4px;\n",
              "    }\n",
              "\n",
              "    [theme=dark] .colab-df-convert {\n",
              "      background-color: #3B4455;\n",
              "      fill: #D2E3FC;\n",
              "    }\n",
              "\n",
              "    [theme=dark] .colab-df-convert:hover {\n",
              "      background-color: #434B5C;\n",
              "      box-shadow: 0px 1px 3px 1px rgba(0, 0, 0, 0.15);\n",
              "      filter: drop-shadow(0px 1px 2px rgba(0, 0, 0, 0.3));\n",
              "      fill: #FFFFFF;\n",
              "    }\n",
              "  </style>\n",
              "\n",
              "    <script>\n",
              "      const buttonEl =\n",
              "        document.querySelector('#df-953c8d5e-d895-4810-9234-57d035a293ff button.colab-df-convert');\n",
              "      buttonEl.style.display =\n",
              "        google.colab.kernel.accessAllowed ? 'block' : 'none';\n",
              "\n",
              "      async function convertToInteractive(key) {\n",
              "        const element = document.querySelector('#df-953c8d5e-d895-4810-9234-57d035a293ff');\n",
              "        const dataTable =\n",
              "          await google.colab.kernel.invokeFunction('convertToInteractive',\n",
              "                                                    [key], {});\n",
              "        if (!dataTable) return;\n",
              "\n",
              "        const docLinkHtml = 'Like what you see? Visit the ' +\n",
              "          '<a target=\"_blank\" href=https://colab.research.google.com/notebooks/data_table.ipynb>data table notebook</a>'\n",
              "          + ' to learn more about interactive tables.';\n",
              "        element.innerHTML = '';\n",
              "        dataTable['output_type'] = 'display_data';\n",
              "        await google.colab.output.renderOutput(dataTable, element);\n",
              "        const docLink = document.createElement('div');\n",
              "        docLink.innerHTML = docLinkHtml;\n",
              "        element.appendChild(docLink);\n",
              "      }\n",
              "    </script>\n",
              "  </div>\n",
              "\n",
              "\n",
              "<div id=\"df-ccc47938-4d17-4dd8-a6f9-8e4e2b5d43ef\">\n",
              "  <button class=\"colab-df-quickchart\" onclick=\"quickchart('df-ccc47938-4d17-4dd8-a6f9-8e4e2b5d43ef')\"\n",
              "            title=\"Suggest charts\"\n",
              "            style=\"display:none;\">\n",
              "\n",
              "<svg xmlns=\"http://www.w3.org/2000/svg\" height=\"24px\"viewBox=\"0 0 24 24\"\n",
              "     width=\"24px\">\n",
              "    <g>\n",
              "        <path d=\"M19 3H5c-1.1 0-2 .9-2 2v14c0 1.1.9 2 2 2h14c1.1 0 2-.9 2-2V5c0-1.1-.9-2-2-2zM9 17H7v-7h2v7zm4 0h-2V7h2v10zm4 0h-2v-4h2v4z\"/>\n",
              "    </g>\n",
              "</svg>\n",
              "  </button>\n",
              "\n",
              "<style>\n",
              "  .colab-df-quickchart {\n",
              "      --bg-color: #E8F0FE;\n",
              "      --fill-color: #1967D2;\n",
              "      --hover-bg-color: #E2EBFA;\n",
              "      --hover-fill-color: #174EA6;\n",
              "      --disabled-fill-color: #AAA;\n",
              "      --disabled-bg-color: #DDD;\n",
              "  }\n",
              "\n",
              "  [theme=dark] .colab-df-quickchart {\n",
              "      --bg-color: #3B4455;\n",
              "      --fill-color: #D2E3FC;\n",
              "      --hover-bg-color: #434B5C;\n",
              "      --hover-fill-color: #FFFFFF;\n",
              "      --disabled-bg-color: #3B4455;\n",
              "      --disabled-fill-color: #666;\n",
              "  }\n",
              "\n",
              "  .colab-df-quickchart {\n",
              "    background-color: var(--bg-color);\n",
              "    border: none;\n",
              "    border-radius: 50%;\n",
              "    cursor: pointer;\n",
              "    display: none;\n",
              "    fill: var(--fill-color);\n",
              "    height: 32px;\n",
              "    padding: 0;\n",
              "    width: 32px;\n",
              "  }\n",
              "\n",
              "  .colab-df-quickchart:hover {\n",
              "    background-color: var(--hover-bg-color);\n",
              "    box-shadow: 0 1px 2px rgba(60, 64, 67, 0.3), 0 1px 3px 1px rgba(60, 64, 67, 0.15);\n",
              "    fill: var(--button-hover-fill-color);\n",
              "  }\n",
              "\n",
              "  .colab-df-quickchart-complete:disabled,\n",
              "  .colab-df-quickchart-complete:disabled:hover {\n",
              "    background-color: var(--disabled-bg-color);\n",
              "    fill: var(--disabled-fill-color);\n",
              "    box-shadow: none;\n",
              "  }\n",
              "\n",
              "  .colab-df-spinner {\n",
              "    border: 2px solid var(--fill-color);\n",
              "    border-color: transparent;\n",
              "    border-bottom-color: var(--fill-color);\n",
              "    animation:\n",
              "      spin 1s steps(1) infinite;\n",
              "  }\n",
              "\n",
              "  @keyframes spin {\n",
              "    0% {\n",
              "      border-color: transparent;\n",
              "      border-bottom-color: var(--fill-color);\n",
              "      border-left-color: var(--fill-color);\n",
              "    }\n",
              "    20% {\n",
              "      border-color: transparent;\n",
              "      border-left-color: var(--fill-color);\n",
              "      border-top-color: var(--fill-color);\n",
              "    }\n",
              "    30% {\n",
              "      border-color: transparent;\n",
              "      border-left-color: var(--fill-color);\n",
              "      border-top-color: var(--fill-color);\n",
              "      border-right-color: var(--fill-color);\n",
              "    }\n",
              "    40% {\n",
              "      border-color: transparent;\n",
              "      border-right-color: var(--fill-color);\n",
              "      border-top-color: var(--fill-color);\n",
              "    }\n",
              "    60% {\n",
              "      border-color: transparent;\n",
              "      border-right-color: var(--fill-color);\n",
              "    }\n",
              "    80% {\n",
              "      border-color: transparent;\n",
              "      border-right-color: var(--fill-color);\n",
              "      border-bottom-color: var(--fill-color);\n",
              "    }\n",
              "    90% {\n",
              "      border-color: transparent;\n",
              "      border-bottom-color: var(--fill-color);\n",
              "    }\n",
              "  }\n",
              "</style>\n",
              "\n",
              "  <script>\n",
              "    async function quickchart(key) {\n",
              "      const quickchartButtonEl =\n",
              "        document.querySelector('#' + key + ' button');\n",
              "      quickchartButtonEl.disabled = true;  // To prevent multiple clicks.\n",
              "      quickchartButtonEl.classList.add('colab-df-spinner');\n",
              "      try {\n",
              "        const charts = await google.colab.kernel.invokeFunction(\n",
              "            'suggestCharts', [key], {});\n",
              "      } catch (error) {\n",
              "        console.error('Error during call to suggestCharts:', error);\n",
              "      }\n",
              "      quickchartButtonEl.classList.remove('colab-df-spinner');\n",
              "      quickchartButtonEl.classList.add('colab-df-quickchart-complete');\n",
              "    }\n",
              "    (() => {\n",
              "      let quickchartButtonEl =\n",
              "        document.querySelector('#df-ccc47938-4d17-4dd8-a6f9-8e4e2b5d43ef button');\n",
              "      quickchartButtonEl.style.display =\n",
              "        google.colab.kernel.accessAllowed ? 'block' : 'none';\n",
              "    })();\n",
              "  </script>\n",
              "</div>\n",
              "\n",
              "    </div>\n",
              "  </div>\n"
            ],
            "text/plain": [
              "   age          job  balance  duration   y\n",
              "0   30   unemployed     1787        79  no\n",
              "1   33     services     4789       220  no\n",
              "2   35   management     1350       185  no\n",
              "3   30   management     1476       199  no\n",
              "4   59  blue-collar        0       226  no"
            ]
          },
          "execution_count": 73,
          "metadata": {},
          "output_type": "execute_result"
        }
      ],
      "source": [
        "# Dropping the duplicate irrelavent column after merging\n",
        "df = bank_df.drop(columns=['marital','education','default','housing','loan','contact','day','month','campaign','pdays','previous','poutcome'])\n",
        "\n",
        "# Print the merged dataframe\n",
        "df.head()"
      ]
    },
    {
      "cell_type": "markdown",
      "metadata": {
        "id": "UVL3SVgamN7q"
      },
      "source": [
        "# Stream Processing and Data Aggregation:"
      ]
    },
    {
      "cell_type": "markdown",
      "metadata": {
        "id": "DWxWkVtImSGj"
      },
      "source": [
        "Implement a Spark Streaming application that reads a stream of data simulating real-time bank transactions. The stream should include columns such as 'age', 'job', 'balance', 'duration', and 'y' (target variable). You can create this stream by breaking the \"bank.csv\" dataset into smaller chunks and sending them as a simulated stream.\n",
        "\n",
        "Use Spark Streaming to calculate the average account balance and transaction duration, aggregating the data by job category in real-time. Display the aggregated results as they are updated."
      ]
    },
    {
      "cell_type": "markdown",
      "metadata": {
        "id": "CHViw7pamWFK"
      },
      "source": [
        "**Aggregate the Data and Display Results**"
      ]
    },
    {
      "cell_type": "markdown",
      "metadata": {
        "id": "UeI5ZiXamZRr"
      },
      "source": [
        "Aggregate the data to calculate the average balance and duration by job category, and display the results in real-time."
      ]
    },
    {
      "cell_type": "code",
      "execution_count": null,
      "metadata": {
        "colab": {
          "base_uri": "https://localhost:8080/"
        },
        "id": "I2UBMfuvld0P",
        "outputId": "c8a8beb7-cc58-4dc7-ecc2-05107f53002f"
      },
      "outputs": [
        {
          "name": "stdout",
          "output_type": "stream",
          "text": [
            "+-------------+------------------+\n",
            "|          job|       avg_balance|\n",
            "+-------------+------------------+\n",
            "|   management|1766.9287925696594|\n",
            "|      retired| 2319.191304347826|\n",
            "|      unknown|1501.7105263157894|\n",
            "|self-employed|1392.4098360655737|\n",
            "|      student|1543.8214285714287|\n",
            "|  blue-collar| 1085.161733615222|\n",
            "| entrepreneur|          1645.125|\n",
            "|       admin.|  1226.73640167364|\n",
            "|   technician|     1330.99609375|\n",
            "|     services|1103.9568345323742|\n",
            "|    housemaid|2083.8035714285716|\n",
            "|   unemployed|       1089.421875|\n",
            "+-------------+------------------+\n",
            "\n",
            "+-------------+------------+\n",
            "|          job|avg_duration|\n",
            "+-------------+------------+\n",
            "|   management|        2087|\n",
            "|      retired|        1386|\n",
            "|      unknown|         789|\n",
            "|self-employed|        1877|\n",
            "|      student|        1124|\n",
            "|  blue-collar|        2456|\n",
            "| entrepreneur|        2769|\n",
            "|       admin.|        1713|\n",
            "|   technician|        2029|\n",
            "|     services|        1971|\n",
            "|    housemaid|        1558|\n",
            "|   unemployed|        3025|\n",
            "+-------------+------------+\n",
            "\n"
          ]
        }
      ],
      "source": [
        "# Import necessary libraries\n",
        "from pyspark.sql import SparkSession\n",
        "from pyspark.sql.functions import avg, max, min, count, when\n",
        "\n",
        "# Create a SparkSession\n",
        "spark = SparkSession.builder.appName(\"AggregateDataInsights\").getOrCreate()\n",
        "\n",
        "# Load your PySpark DataFrame (replace 'your_data' with your actual DataFrame)\n",
        "spark_df = spark.createDataFrame(df)\n",
        "\n",
        "# Group by a specific column (e.g., sentiment) and perform aggregation\n",
        "grouped_data = spark_df.groupBy(\"job\")\n",
        "\n",
        "# Calculate average sentiment\n",
        "average_balance = grouped_data.agg(avg(\"balance\").alias(\"avg_balance\"))\n",
        "\n",
        "# Calculate the maximum sentiment value\n",
        "avg_duration = grouped_data.agg(max(\"duration\").alias(\"avg_duration\"))\n",
        "\n",
        "\n",
        "\n",
        "# Show the results\n",
        "average_balance.show()\n",
        "avg_duration.show()\n",
        "\n",
        "\n",
        "# Stop the SparkSession\n",
        "spark.stop()"
      ]
    },
    {
      "cell_type": "markdown",
      "metadata": {
        "id": "nj8McIocmo2Z"
      },
      "source": [
        "# Real-Time Model Predictions:"
      ]
    },
    {
      "cell_type": "markdown",
      "metadata": {
        "id": "PhBnBT9Umu8B"
      },
      "source": [
        "Develop a machine learning model using the historical data from the \"bank.csv\" dataset to predict whether a client will subscribe to a term deposit ('y'). You may choose any classification algorithm.\n",
        "\n",
        "Integrate the trained model into the Spark Streaming application. Use the model to make real-time predictions as new transaction data is streamed. Ensure that each incoming transaction is accompanied by a prediction of whether the client will subscribe to a term deposit.\n",
        "\n",
        "To integrate a real-time machine learning model into a Spark Streaming application, we'll follow these steps:\n",
        "\n",
        "Train a Classification Model: Use the historical bank.csv dataset to train a classification model.\n",
        "\n",
        "Save the Trained Model: Save the trained model so it can be loaded in the streaming application.\n",
        "\n",
        "Stream Processing and Model Predictions: Develop the Spark Streaming application to read incoming data, load the trained model, and make real-time predictions."
      ]
    },
    {
      "cell_type": "code",
      "execution_count": null,
      "metadata": {
        "colab": {
          "base_uri": "https://localhost:8080/"
        },
        "id": "GyQOuiLIldv7",
        "outputId": "415b8b48-5b87-43d1-af13-cd2ad2aedfe9"
      },
      "outputs": [
        {
          "name": "stdout",
          "output_type": "stream",
          "text": [
            "Train Accuracy: 0.8971553610503282\n",
            "Test Accuracy: 0.8901734104046243\n"
          ]
        }
      ],
      "source": [
        "from pyspark.sql import SparkSession\n",
        "from pyspark.ml.feature import StringIndexer, VectorAssembler\n",
        "from pyspark.ml.classification import RandomForestClassifier\n",
        "from pyspark.ml import Pipeline\n",
        "from pyspark.ml.evaluation import BinaryClassificationEvaluator\n",
        "import pandas as pd\n",
        "import matplotlib.pyplot as plt\n",
        "\n",
        "# Create a Spark session\n",
        "spark = SparkSession.builder \\\n",
        "    .appName(\"BankTermDepositPrediction\") \\\n",
        "    .config(\"spark.sql.shuffle.partitions\", \"4\") \\\n",
        "    .config(\"spark.executor.memory\", \"2g\") \\\n",
        "    .config(\"spark.driver.memory\", \"2g\") \\\n",
        "    .getOrCreate()\n",
        "\n",
        "# Load the dataset\n",
        "data_path = \"/content/bank.csv\"\n",
        "data = spark.read.csv(data_path, header=True, inferSchema=True)\n",
        "\n",
        "# Handle categorical variables using StringIndexer\n",
        "categorical_columns = [\"job\", \"marital\", \"education\", \"default\", \"housing\", \"loan\", \"contact\", \"month\", \"poutcome\"]\n",
        "indexers = [StringIndexer(inputCol=col, outputCol=col+\"_index\") for col in categorical_columns]\n",
        "\n",
        "# Rename the target column to 'label'\n",
        "data = data.withColumnRenamed(\"y\", \"label\")\n",
        "\n",
        "# Convert the label column to numerical values\n",
        "label_indexer = StringIndexer(inputCol=\"label\", outputCol=\"label_index\")\n",
        "data = label_indexer.fit(data).transform(data)\n",
        "\n",
        "# Assemble features into a single vector\n",
        "assembler = VectorAssembler(\n",
        "    inputCols=[\"age\", \"balance\", \"day\", \"duration\", \"campaign\", \"pdays\", \"previous\"] + [col+\"_index\" for col in categorical_columns],\n",
        "    outputCol=\"features\"\n",
        ")\n",
        "\n",
        "# Initialize the Random Forest classifier\n",
        "rf = RandomForestClassifier(labelCol=\"label_index\", featuresCol=\"features\", numTrees=100)\n",
        "\n",
        "# Define the pipeline\n",
        "pipeline = Pipeline(stages=indexers + [assembler, rf])\n",
        "\n",
        "# Split the data into training and test sets\n",
        "train_data, test_data = data.randomSplit([0.8, 0.2], seed=1234)\n",
        "\n",
        "# Train the model\n",
        "model = pipeline.fit(train_data)\n",
        "\n",
        "# Evaluate the model\n",
        "predictions = model.transform(test_data)\n",
        "predictions_tr = model.transform(train_data)\n",
        "\n",
        "evaluator = BinaryClassificationEvaluator(labelCol=\"label_index\")\n",
        "\n",
        "# Calculate training accuracy\n",
        "train_accuracy = predictions_tr.filter(predictions_tr.label_index == predictions_tr.prediction).count() / float(train_data.count())\n",
        "print(f\"Train Accuracy: {train_accuracy}\")\n",
        "\n",
        "# Calculate test accuracy\n",
        "test_accuracy = predictions.filter(predictions.label_index == predictions.prediction).count() / float(test_data.count())\n",
        "print(f\"Test Accuracy: {test_accuracy}\")\n",
        "\n",
        "# Stop the Spark session\n",
        "spark.stop()"
      ]
    },
    {
      "cell_type": "code",
      "execution_count": null,
      "metadata": {
        "colab": {
          "base_uri": "https://localhost:8080/",
          "height": 564
        },
        "id": "tQiSjjpsldsR",
        "outputId": "69dabcb2-e77a-4632-b212-b45b555e38cd"
      },
      "outputs": [
        {
          "data": {
            "image/png": "[encoded data removed]",
            "text/plain": [
              "<Figure size 1000x600 with 1 Axes>"
            ]
          },
          "metadata": {},
          "output_type": "display_data"
        }
      ],
      "source": [
        "# Visualize the comparison of train and test accuracy\n",
        "metrics = pd.DataFrame({\n",
        "    'Data Set': ['Train', 'Test'],\n",
        "    'Accuracy': [train_accuracy, test_accuracy]\n",
        "})\n",
        "\n",
        "# Plot the comparison\n",
        "plt.figure(figsize=(10, 6))\n",
        "plt.bar(metrics['Data Set'], metrics['Accuracy'], color=['blue', 'orange'])\n",
        "plt.ylim(0, 1)\n",
        "plt.xlabel('Data Set')\n",
        "plt.ylabel('Accuracy')\n",
        "plt.title('Comparison of Train and Test Accuracy')\n",
        "plt.show()"
      ]
    },
    {
      "cell_type": "markdown",
      "metadata": {
        "id": "tRFQ4A-7nUBY"
      },
      "source": [
        "# Window Operations and Trend Analysis:"
      ]
    },
    {
      "cell_type": "markdown",
      "metadata": {
        "id": "RBkGeZCcnXj_"
      },
      "source": [
        "Implement window operations in your Spark Streaming application to analyze trends over different time windows. Calculate and display the count of transactions and the average balance within these windows.\n",
        "\n",
        "Write a brief analysis of the trends observed in the streaming data. Discuss any interesting patterns or anomalies detected in the transaction count or average balance over the specified windows."
      ]
    },
    {
      "cell_type": "code",
      "execution_count": null,
      "metadata": {
        "id": "0OEhe5XIldo2"
      },
      "outputs": [],
      "source": [
        "from pyspark.sql import SparkSession\n",
        "from pyspark.sql.functions import window, count, avg, current_timestamp\n",
        "from pyspark.sql.types import StructType, StructField, StringType, IntegerType, DoubleType\n",
        "\n",
        "# Create a Spark session\n",
        "spark = SparkSession.builder \\\n",
        "    .appName(\"TransactionAnalysis\") \\\n",
        "    .getOrCreate()\n",
        "\n",
        "# Assuming `df` is your Pandas DataFrame\n",
        "\n",
        "# Define the schema for the CSV files\n",
        "schema = StructType([\n",
        "    StructField(\"age\", IntegerType(), True),\n",
        "    StructField(\"job\", StringType(), True),\n",
        "    StructField(\"marital\", StringType(), True),\n",
        "    StructField(\"education\", StringType(), True),\n",
        "    StructField(\"default\", StringType(), True),\n",
        "    StructField(\"balance\", IntegerType(), True),  # Assuming balance is an integer\n",
        "    StructField(\"housing\", StringType(), True),\n",
        "    StructField(\"loan\", StringType(), True),\n",
        "    StructField(\"contact\", StringType(), True),\n",
        "    StructField(\"day\", IntegerType(), True),\n",
        "    StructField(\"month\", StringType(), True),\n",
        "    StructField(\"duration\", IntegerType(), True),\n",
        "    StructField(\"campaign\", IntegerType(), True),\n",
        "    StructField(\"pdays\", IntegerType(), True),\n",
        "    StructField(\"previous\", IntegerType(), True),\n",
        "    StructField(\"poutcome\", StringType(), True),\n",
        "    StructField(\"y\", StringType(), True)\n",
        "])"
      ]
    },
    {
      "cell_type": "code",
      "execution_count": null,
      "metadata": {
        "colab": {
          "base_uri": "https://localhost:8080/"
        },
        "id": "kBeNyeyHldlf",
        "outputId": "05406f07-7d70-4a50-9ef6-1e123843a9ee"
      },
      "outputs": [
        {
          "name": "stdout",
          "output_type": "stream",
          "text": [
            "+---+-------------+-------+--------+---+--------------------+-------------------+\n",
            "|age|          job|balance|duration|  y|           timestamp|rolling_avg_balance|\n",
            "+---+-------------+-------+--------+---+--------------------+-------------------+\n",
            "| 30|   unemployed| 1787.0|      79| no|2025-02-01 13:06:...|             1787.0|\n",
            "| 33|     services| 4789.0|     220| no|2025-02-01 13:06:...|             3288.0|\n",
            "| 35|   management| 1350.0|     185| no|2025-02-01 13:06:...|             2642.0|\n",
            "| 30|   management| 1476.0|     199| no|2025-02-01 13:06:...|             2350.5|\n",
            "| 59|  blue-collar|    0.0|     226| no|2025-02-01 13:06:...|             1880.4|\n",
            "| 35|   management|  747.0|     141| no|2025-02-01 13:06:...|             1691.5|\n",
            "| 36|self-employed|  307.0|     341| no|2025-02-01 13:06:...| 1444.8333333333333|\n",
            "| 39|   technician|  147.0|     151| no|2025-02-01 13:06:...|  671.1666666666666|\n",
            "| 41| entrepreneur|  221.0|      57| no|2025-02-01 13:06:...|              483.0|\n",
            "| 43|     services|  -88.0|     313| no|2025-02-01 13:06:...| 222.33333333333334|\n",
            "| 39|     services| 9374.0|     273| no|2025-02-01 13:06:...| 1784.6666666666667|\n",
            "| 43|       admin.|  264.0|     113| no|2025-02-01 13:06:...| 1704.1666666666667|\n",
            "| 36|   technician| 1109.0|     328| no|2025-02-01 13:06:...| 1837.8333333333333|\n",
            "| 20|      student|  502.0|     261|yes|2025-02-01 13:06:...|             1897.0|\n",
            "| 31|  blue-collar|  360.0|      89| no|2025-02-01 13:06:...| 1920.1666666666667|\n",
            "| 40|   management|  194.0|     189| no|2025-02-01 13:06:...| 1967.1666666666667|\n",
            "| 56|   technician| 4073.0|     239| no|2025-02-01 13:06:...| 1083.6666666666667|\n",
            "| 37|       admin.| 2317.0|     114| no|2025-02-01 13:06:...| 1425.8333333333333|\n",
            "| 25|  blue-collar| -221.0|     250| no|2025-02-01 13:06:...| 1204.1666666666667|\n",
            "| 31|     services|  132.0|     148| no|2025-02-01 13:06:...|             1142.5|\n",
            "+---+-------------+-------+--------+---+--------------------+-------------------+\n",
            "only showing top 20 rows\n",
            "\n",
            "+---+-------------+-------+--------+---+--------------------+-----------------------+\n",
            "|age|          job|balance|duration|  y|           timestamp|rolling_avg_transcation|\n",
            "+---+-------------+-------+--------+---+--------------------+-----------------------+\n",
            "| 30|   unemployed| 1787.0|      79| no|2025-02-01 13:06:...|                      1|\n",
            "| 33|     services| 4789.0|     220| no|2025-02-01 13:06:...|                      2|\n",
            "| 35|   management| 1350.0|     185| no|2025-02-01 13:06:...|                      3|\n",
            "| 30|   management| 1476.0|     199| no|2025-02-01 13:06:...|                      4|\n",
            "| 59|  blue-collar|    0.0|     226| no|2025-02-01 13:06:...|                      5|\n",
            "| 35|   management|  747.0|     141| no|2025-02-01 13:06:...|                      6|\n",
            "| 36|self-employed|  307.0|     341| no|2025-02-01 13:06:...|                      6|\n",
            "| 39|   technician|  147.0|     151| no|2025-02-01 13:06:...|                      6|\n",
            "| 41| entrepreneur|  221.0|      57| no|2025-02-01 13:06:...|                      6|\n",
            "| 43|     services|  -88.0|     313| no|2025-02-01 13:06:...|                      6|\n",
            "| 39|     services| 9374.0|     273| no|2025-02-01 13:06:...|                      6|\n",
            "| 43|       admin.|  264.0|     113| no|2025-02-01 13:06:...|                      6|\n",
            "| 36|   technician| 1109.0|     328| no|2025-02-01 13:06:...|                      6|\n",
            "| 20|      student|  502.0|     261|yes|2025-02-01 13:06:...|                      6|\n",
            "| 31|  blue-collar|  360.0|      89| no|2025-02-01 13:06:...|                      6|\n",
            "| 40|   management|  194.0|     189| no|2025-02-01 13:06:...|                      6|\n",
            "| 56|   technician| 4073.0|     239| no|2025-02-01 13:06:...|                      6|\n",
            "| 37|       admin.| 2317.0|     114| no|2025-02-01 13:06:...|                      6|\n",
            "| 25|  blue-collar| -221.0|     250| no|2025-02-01 13:06:...|                      6|\n",
            "| 31|     services|  132.0|     148| no|2025-02-01 13:06:...|                      6|\n",
            "+---+-------------+-------+--------+---+--------------------+-----------------------+\n",
            "only showing top 20 rows\n",
            "\n"
          ]
        }
      ],
      "source": [
        "# Create a PySpark DataFrame from the Pandas DataFrame\n",
        "streaming_df = spark.createDataFrame(df)\n",
        "\n",
        "# Import necessary libraries for stateful processing\n",
        "from pyspark.sql.window import Window\n",
        "from pyspark.sql import functions as F\n",
        "\n",
        "# Add a timestamp column using current_timestamp()\n",
        "streaming_df = streaming_df.withColumn(\"timestamp\", current_timestamp())\n",
        "\n",
        "# Cast balance column to double type\n",
        "streaming_df = streaming_df.withColumn(\"balance\", streaming_df[\"balance\"].cast(\"double\"))\n",
        "\n",
        "# Sort the DataFrame by timestamp\n",
        "sorted_df = streaming_df.orderBy(\"timestamp\")\n",
        "\n",
        "# Define window duration and sliding interval\n",
        "windowDuration = \"1 minute\"\n",
        "slideInterval = \"30 seconds\"\n",
        "\n",
        "# Define a window specification\n",
        "window_spec = Window.orderBy(\"timestamp\").rowsBetween(-5, 0)\n",
        "\n",
        "\n",
        "\n",
        "# Calculate a rolling average sentiment over a window of 6 rows\n",
        "rolling_avg_balance_df = sorted_df.withColumn(\"rolling_avg_balance\", F.avg(\"balance\").over(window_spec))\n",
        "rolling_avg_transaction_df = sorted_df.withColumn(\"rolling_avg_transcation\", F.count(\"balance\").over(window_spec))\n",
        "\n",
        "# Show the resulting DataFrame\n",
        "rolling_avg_balance_df.show()\n",
        "rolling_avg_transaction_df.show()"
      ]
    },
    {
      "cell_type": "code",
      "execution_count": null,
      "metadata": {
        "colab": {
          "base_uri": "https://localhost:8080/",
          "height": 564
        },
        "id": "NqkarDfDldh4",
        "outputId": "badd61a2-d8cc-421b-e6cc-5d4c79796ea4"
      },
      "outputs": [
        {
          "data": {
            "image/png": "[encoded data removed]",
            "text/plain": [
              "<Figure size 1200x600 with 1 Axes>"
            ]
          },
          "metadata": {},
          "output_type": "display_data"
        }
      ],
      "source": [
        "import matplotlib.pyplot as plt\n",
        "\n",
        "# Extract timestamps and rolling average balance values\n",
        "\n",
        "balance_values = rolling_avg_balance_df.select(\"rolling_avg_balance\").collect()\n",
        "\n",
        "transaction_count_values = rolling_avg_transaction_df.select(\"rolling_avg_transcation\").collect()\n",
        "\n",
        "\n",
        "\n",
        "# Plot rolling average balance\n",
        "plt.figure(figsize=(12, 6))\n",
        "plt.plot(transaction_count_values,balance_values, label=\"Rolling Avg. Balance\", color=\"blue\")\n",
        "plt.xlabel(\"Transaction Count\")\n",
        "plt.ylabel(\"Rolling Average Balance\")\n",
        "plt.title(\"Rolling Average Balance Over Transaction Counts\")\n",
        "plt.legend()\n",
        "plt.grid(True)\n",
        "plt.show()"
      ]
    },
    {
      "cell_type": "markdown",
      "metadata": {
        "id": "d6TOA8lFn4m1"
      },
      "source": [
        "# Handling Late and Out-of-Order Data"
      ]
    },
    {
      "cell_type": "markdown",
      "metadata": {
        "id": "STRYgb0ln4i9"
      },
      "source": [
        "Modify your Spark Streaming application to handle late and out-of-order data using watermarking. Explain your approach and how it improves the accuracy of real-time analytics.\n",
        "\n",
        "Handling late and out-of-order data is crucial in real-time analytics to ensure the accuracy and reliability of the analysis results. Spark Structured Streaming provides a feature called watermarking to address these challenges effectively.\n",
        "\n",
        "Watermarking allows Spark to track the event time of data and specify a threshold beyond which late data is considered irrelevant for computations. It works by associating a timestamp with each event and discarding events that arrive after a certain delay relative to the latest event seen so far.\n",
        "\n",
        "Here's how you can modify your Spark Streaming application to handle late and out-of-order data using watermarking:\n",
        "\n",
        "**Define Event Time**: Ensure that your streaming data contains a timestamp indicating the event time. This timestamp should represent when the event occurred, not when it was processed.\n",
        "\n",
        "**Specify Watermark**: Set a watermark for your streaming DataFrame or Dataset using the withWatermark function. This function specifies the maximum delay allowed for late data.\n",
        "\n",
        "**Use Event Time in Windowing**: When defining window operations (e.g., aggregations over time windows), specify the column representing the event time. This ensures that Spark uses the event time for windowing calculations.\n",
        "\n",
        "**Handle Late Data**: Spark will automatically handle late data based on the watermark specified. Late data that arrives after the watermark threshold will be considered irrelevant for computations and will be dropped.\n",
        "\n",
        "**Ensure Data Ordering**: It's essential to ensure that your streaming data is ordered by event time before performing window operations. You can achieve this by sorting your DataFrame or Dataset by the event time column.\n",
        "\n",
        "By implementing watermarking in your Spark Structured Streaming application, you can improve the accuracy of real-time analytics by:\n",
        "\n",
        "Ensuring that only relevant data within the specified event time window is considered for computations.\n",
        "\n",
        "Handling out-of-order data gracefully by accommodating delays in data arrival. Preventing over-counting or under-counting of events that arrive late or out of order.\n",
        "\n",
        "Providing more accurate insights and analytics results based on a complete and consistent view of the data within the defined time windows."
      ]
    },
    {
      "cell_type": "code",
      "execution_count": null,
      "metadata": {
        "colab": {
          "base_uri": "https://localhost:8080/"
        },
        "id": "qt27QoZOn4NV",
        "outputId": "6b3f4650-8aa5-49f1-de84-a328562639fd"
      },
      "outputs": [
        {
          "name": "stdout",
          "output_type": "stream",
          "text": [
            "+--------------------+-------------------+\n",
            "|              window|rolling_avg_balance|\n",
            "+--------------------+-------------------+\n",
            "|{2025-02-01 13:10...| 1422.6578190665782|\n",
            "|{2025-02-01 13:09...| 1422.6578190665782|\n",
            "+--------------------+-------------------+\n",
            "\n",
            "+--------------------+-----------------+\n",
            "|              window|transaction_count|\n",
            "+--------------------+-----------------+\n",
            "|{2025-02-01 13:10...|             4521|\n",
            "|{2025-02-01 13:09...|             4521|\n",
            "+--------------------+-----------------+\n",
            "\n"
          ]
        }
      ],
      "source": [
        "from pyspark.sql import SparkSession\n",
        "from pyspark.sql.functions import window, count, avg, current_timestamp\n",
        "from pyspark.sql.types import StructType, StructField, StringType, IntegerType, DoubleType\n",
        "\n",
        "# Create a Spark session\n",
        "spark = SparkSession.builder \\\n",
        "    .appName(\"TransactionWatermarking\") \\\n",
        "    .getOrCreate()\n",
        "\n",
        "# Create a PySpark DataFrame from the Pandas DataFrame\n",
        "streaming_df = spark.createDataFrame(df)\n",
        "\n",
        "# Add a timestamp column using current_timestamp()\n",
        "streaming_df = streaming_df.withColumn(\"timestamp\", current_timestamp())\n",
        "\n",
        "# Define watermark for late data handling\n",
        "watermark_duration = \"10 seconds\"\n",
        "\n",
        "# Define window duration and sliding interval\n",
        "windowDuration = \"1 minute\"\n",
        "slideInterval = \"30 seconds\"\n",
        "\n",
        "# Cast balance column to double type\n",
        "streaming_df = streaming_df.withColumn(\"balance\", streaming_df[\"balance\"].cast(\"double\"))\n",
        "\n",
        "# Apply watermarking to handle late data\n",
        "streaming_df = streaming_df.withWatermark(\"timestamp\", watermark_duration)\n",
        "\n",
        "# Sort the DataFrame by timestamp\n",
        "sorted_df = streaming_df.orderBy(\"timestamp\")\n",
        "\n",
        "# Define a window specification\n",
        "window_spec = window(\"timestamp\", windowDuration, slideInterval)\n",
        "\n",
        "# Calculate a rolling average balance over a window of 6 rows\n",
        "rolling_avg_balance_df = sorted_df \\\n",
        "    .groupBy(window_spec) \\\n",
        "    .agg(F.avg(\"balance\").alias(\"rolling_avg_balance\"))\n",
        "\n",
        "# Calculate the count of transactions within the window\n",
        "rolling_avg_transaction_df = sorted_df \\\n",
        "    .groupBy(window_spec) \\\n",
        "    .agg(count(\"*\").alias(\"transaction_count\"))\n",
        "\n",
        "rolling_avg_balance_df.show()\n",
        "rolling_avg_transaction_df.show()\n"
      ]
    }
  ],
  "metadata": {
    "colab": {
      "provenance": [],
      "include_colab_link": true
    },
    "kernelspec": {
      "display_name": "Python 3",
      "name": "python3"
    },
    "language_info": {
      "name": "python"
    }
  },
  "nbformat": 4,
  "nbformat_minor": 0
}